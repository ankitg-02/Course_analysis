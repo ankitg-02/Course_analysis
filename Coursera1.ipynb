{
  "nbformat": 4,
  "nbformat_minor": 0,
  "metadata": {
    "colab": {
      "provenance": [],
      "authorship_tag": "ABX9TyNu/JTYCwny+gOzgP1vw5K+",
      "include_colab_link": true
    },
    "kernelspec": {
      "name": "python3",
      "display_name": "Python 3"
    },
    "language_info": {
      "name": "python"
    }
  },
  "cells": [
    {
      "cell_type": "markdown",
      "metadata": {
        "id": "view-in-github",
        "colab_type": "text"
      },
      "source": [
        "<a href=\"https://colab.research.google.com/github/ankitg-02/Course_analysis/blob/main/Coursera1.ipynb\" target=\"_parent\"><img src=\"https://colab.research.google.com/assets/colab-badge.svg\" alt=\"Open In Colab\"/></a>"
      ]
    },
    {
      "cell_type": "code",
      "execution_count": 1,
      "metadata": {
        "id": "eObl7MUomfBB"
      },
      "outputs": [],
      "source": [
        "import pandas as pd\n",
        "import numpy as np\n",
        "import matplotlib.pyplot as plt\n",
        "from collections import Counter"
      ]
    },
    {
      "cell_type": "code",
      "source": [
        "#feteching the dataset from the csv file\n",
        "course=pd.read_csv('/content/coursera_course_dataset.csv')\n",
        "coursera=pd.DataFrame(course)\n",
        "print(coursera)"
      ],
      "metadata": {
        "colab": {
          "base_uri": "https://localhost:8080/"
        },
        "id": "hHaQe0wQmmQe",
        "outputId": "d25382bb-5dc8-4ef8-fcf7-7c648b105652"
      },
      "execution_count": 2,
      "outputs": [
        {
          "output_type": "stream",
          "name": "stdout",
          "text": [
            "     Unnamed: 0                                              Title  \\\n",
            "0             0                               Google Cybersecurity   \n",
            "1             1                              Google Data Analytics   \n",
            "2             2                         Google Project Management:   \n",
            "3             3                                   IBM Data Science   \n",
            "4             4              Google Digital Marketing & E-commerce   \n",
            "..          ...                                                ...   \n",
            "979         979  Getting Started with Front-End and Web Develop...   \n",
            "980         980                   Conflict Management For Everyone   \n",
            "981         981     Introduction to Microsoft Azure Cloud Services   \n",
            "982         982                              Healing with the Arts   \n",
            "983         983                               Applied Cryptography   \n",
            "\n",
            "                      Organization  \\\n",
            "0                           Google   \n",
            "1                           Google   \n",
            "2                           Google   \n",
            "3                              IBM   \n",
            "4                           Google   \n",
            "..                             ...   \n",
            "979                            IBM   \n",
            "980       Arizona State University   \n",
            "981                      Microsoft   \n",
            "982          University of Florida   \n",
            "983  University of Colorado System   \n",
            "\n",
            "                                                Skills  Ratings  \\\n",
            "0     Network Security, Python Programming, Linux, ...      4.8   \n",
            "1     Data Analysis, R Programming, SQL, Business C...      4.8   \n",
            "2     Project Management, Strategy and Operations, ...      4.8   \n",
            "3     Python Programming, Data Science, Machine Lea...      4.6   \n",
            "4     Digital Marketing, Marketing, Marketing Manag...      4.8   \n",
            "..                                                 ...      ...   \n",
            "979                                                NaN      NaN   \n",
            "980                                                NaN      NaN   \n",
            "981                                                NaN      NaN   \n",
            "982                                                NaN      NaN   \n",
            "983                                                NaN      NaN   \n",
            "\n",
            "         Review counts                                           Metadata  \n",
            "0     4.8(20K reviews)  Beginner · Professional Certificate · 3 - 6 Mo...  \n",
            "1    4.8(137K reviews)  Beginner · Professional Certificate · 3 - 6 Mo...  \n",
            "2    4.8(100K reviews)  Beginner · Professional Certificate · 3 - 6 Mo...  \n",
            "3    4.6(120K reviews)  Beginner · Professional Certificate · 3 - 6 Mo...  \n",
            "4     4.8(23K reviews)  Beginner · Professional Certificate · 3 - 6 Mo...  \n",
            "..                 ...                                                ...  \n",
            "979                NaN                                  Beginner · Course  \n",
            "980                NaN           Beginner · Specialization · 3 - 6 Months  \n",
            "981                NaN                    Beginner · Course · 1 - 4 Weeks  \n",
            "982                NaN                      Mixed · Course · 1 - 3 Months  \n",
            "983                NaN       Intermediate · Specialization · 3 - 6 Months  \n",
            "\n",
            "[984 rows x 7 columns]\n"
          ]
        }
      ]
    },
    {
      "cell_type": "code",
      "source": [
        "#checking whether the tuples are blank or not\n",
        "coursera.isnull().sum()"
      ],
      "metadata": {
        "colab": {
          "base_uri": "https://localhost:8080/"
        },
        "id": "qfHaM8gCneKM",
        "outputId": "b873c4a6-9f54-4d63-fda4-23deadcad7d3"
      },
      "execution_count": 3,
      "outputs": [
        {
          "output_type": "execute_result",
          "data": {
            "text/plain": [
              "Unnamed: 0         0\n",
              "Title              0\n",
              "Organization       0\n",
              "Skills           624\n",
              "Ratings           84\n",
              "Review counts     84\n",
              "Metadata           0\n",
              "dtype: int64"
            ]
          },
          "metadata": {},
          "execution_count": 3
        }
      ]
    },
    {
      "cell_type": "code",
      "source": [
        "#enhancing different skills\n",
        "skills=coursera['Skills'].unique\n",
        "print(skills)\n"
      ],
      "metadata": {
        "id": "3YJz2Ug6nzmX",
        "colab": {
          "base_uri": "https://localhost:8080/"
        },
        "outputId": "57be70d8-2e8a-4a0f-ed4a-7234641fe240"
      },
      "execution_count": 18,
      "outputs": [
        {
          "output_type": "stream",
          "name": "stdout",
          "text": [
            "<bound method Series.unique of 0       Network Security, Python Programming, Linux, ...\n",
            "1       Data Analysis, R Programming, SQL, Business C...\n",
            "2       Project Management, Strategy and Operations, ...\n",
            "3       Python Programming, Data Science, Machine Lea...\n",
            "4       Digital Marketing, Marketing, Marketing Manag...\n",
            "                             ...                        \n",
            "979                                                  NaN\n",
            "980                                                  NaN\n",
            "981                                                  NaN\n",
            "982                                                  NaN\n",
            "983                                                  NaN\n",
            "Name: Skills, Length: 984, dtype: object>\n"
          ]
        }
      ]
    },
    {
      "cell_type": "code",
      "source": [
        "#details about each skills\n",
        "uni_skills=[]\n",
        "for i in coursera['Skills']:\n",
        "  if i not in coursera['Skills']:\n",
        "    uni_skills.append(coursera['Skills'](i))\n",
        "print(uni_skills)\n"
      ],
      "metadata": {
        "id": "PPiUl-vEqPSa",
        "colab": {
          "base_uri": "https://localhost:8080/",
          "height": 193
        },
        "outputId": "b5ddd2e3-cf9b-4d21-aefb-8476a965ed9f"
      },
      "execution_count": 24,
      "outputs": [
        {
          "output_type": "error",
          "ename": "TypeError",
          "evalue": "'Series' object is not callable",
          "traceback": [
            "\u001b[0;31m---------------------------------------------------------------------------\u001b[0m",
            "\u001b[0;31mTypeError\u001b[0m                                 Traceback (most recent call last)",
            "\u001b[0;32m<ipython-input-24-a07aa727cce5>\u001b[0m in \u001b[0;36m<cell line: 4>\u001b[0;34m()\u001b[0m\n\u001b[1;32m      4\u001b[0m \u001b[0;32mfor\u001b[0m \u001b[0mi\u001b[0m \u001b[0;32min\u001b[0m \u001b[0mskills\u001b[0m\u001b[0;34m:\u001b[0m\u001b[0;34m\u001b[0m\u001b[0;34m\u001b[0m\u001b[0m\n\u001b[1;32m      5\u001b[0m   \u001b[0;32mif\u001b[0m \u001b[0mi\u001b[0m \u001b[0;32mnot\u001b[0m \u001b[0;32min\u001b[0m \u001b[0mskills\u001b[0m\u001b[0;34m:\u001b[0m\u001b[0;34m\u001b[0m\u001b[0;34m\u001b[0m\u001b[0m\n\u001b[0;32m----> 6\u001b[0;31m     \u001b[0muni_skills\u001b[0m\u001b[0;34m.\u001b[0m\u001b[0mappend\u001b[0m\u001b[0;34m(\u001b[0m\u001b[0mskills\u001b[0m\u001b[0;34m(\u001b[0m\u001b[0mi\u001b[0m\u001b[0;34m)\u001b[0m\u001b[0;34m)\u001b[0m\u001b[0;34m\u001b[0m\u001b[0;34m\u001b[0m\u001b[0m\n\u001b[0m\u001b[1;32m      7\u001b[0m \u001b[0mprint\u001b[0m\u001b[0;34m(\u001b[0m\u001b[0muni_skills\u001b[0m\u001b[0;34m)\u001b[0m\u001b[0;34m\u001b[0m\u001b[0;34m\u001b[0m\u001b[0m\n",
            "\u001b[0;31mTypeError\u001b[0m: 'Series' object is not callable"
          ]
        }
      ]
    },
    {
      "cell_type": "code",
      "source": [
        "#details about organisation\n",
        "orgs=[]\n",
        "for j in coursera['Organization']:\n",
        "  if j not in coursera['Organization']:\n",
        "    orgs.append(coursera['Organization'])\n",
        "print(orgs)\n",
        "\n",
        "\n"
      ],
      "metadata": {
        "colab": {
          "base_uri": "https://localhost:8080/"
        },
        "id": "Oauoo5Fn6a9-",
        "outputId": "e1d19f34-3d80-4ae9-927d-38ac86655d1b"
      },
      "execution_count": 17,
      "outputs": [
        {
          "output_type": "stream",
          "name": "stdout",
          "text": [
            "['Google']\n"
          ]
        }
      ]
    },
    {
      "cell_type": "code",
      "source": [],
      "metadata": {
        "id": "tiPCw33FCbtR",
        "colab": {
          "base_uri": "https://localhost:8080/"
        },
        "outputId": "aeb5b296-65f5-467b-dc27-92ebe7eae84c"
      },
      "execution_count": 12,
      "outputs": [
        {
          "output_type": "stream",
          "name": "stdout",
          "text": [
            "[20, 30, 40]\n"
          ]
        }
      ]
    },
    {
      "cell_type": "code",
      "source": [],
      "metadata": {
        "id": "GJ-8JpCwHMW8"
      },
      "execution_count": null,
      "outputs": []
    }
  ]
}