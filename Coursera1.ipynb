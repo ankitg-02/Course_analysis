{
  "nbformat": 4,
  "nbformat_minor": 0,
  "metadata": {
    "colab": {
      "provenance": [],
      "authorship_tag": "ABX9TyOTrVgmjFLiL+EPPS4zLzW8",
      "include_colab_link": true
    },
    "kernelspec": {
      "name": "python3",
      "display_name": "Python 3"
    },
    "language_info": {
      "name": "python"
    }
  },
  "cells": [
    {
      "cell_type": "markdown",
      "metadata": {
        "id": "view-in-github",
        "colab_type": "text"
      },
      "source": [
        "<a href=\"https://colab.research.google.com/github/ankitg-02/Course_analysis/blob/main/Coursera1.ipynb\" target=\"_parent\"><img src=\"https://colab.research.google.com/assets/colab-badge.svg\" alt=\"Open In Colab\"/></a>"
      ]
    },
    {
      "cell_type": "code",
      "execution_count": 1,
      "metadata": {
        "id": "eObl7MUomfBB"
      },
      "outputs": [],
      "source": [
        "import pandas as pd\n",
        "import numpy as np\n",
        "import matplotlib.pyplot as plt\n",
        "from collections import Counter\n"
      ]
    },
    {
      "cell_type": "code",
      "source": [
        "#feteching the dataset from the csv file\n",
        "course=pd.read_csv('/content/coursera_course_dataset.csv')\n",
        "coursera=pd.DataFrame(course)\n",
        "print(coursera)"
      ],
      "metadata": {
        "colab": {
          "base_uri": "https://localhost:8080/"
        },
        "id": "hHaQe0wQmmQe",
        "outputId": "ad1a624c-6e81-4b46-b817-b46c35866ee2"
      },
      "execution_count": 2,
      "outputs": [
        {
          "output_type": "stream",
          "name": "stdout",
          "text": [
            "     Unnamed: 0                                              Title  \\\n",
            "0             0                               Google Cybersecurity   \n",
            "1             1                              Google Data Analytics   \n",
            "2             2                         Google Project Management:   \n",
            "3             3                                   IBM Data Science   \n",
            "4             4              Google Digital Marketing & E-commerce   \n",
            "..          ...                                                ...   \n",
            "979         979  Getting Started with Front-End and Web Develop...   \n",
            "980         980                   Conflict Management For Everyone   \n",
            "981         981     Introduction to Microsoft Azure Cloud Services   \n",
            "982         982                              Healing with the Arts   \n",
            "983         983                               Applied Cryptography   \n",
            "\n",
            "                      Organization  \\\n",
            "0                           Google   \n",
            "1                           Google   \n",
            "2                           Google   \n",
            "3                              IBM   \n",
            "4                           Google   \n",
            "..                             ...   \n",
            "979                            IBM   \n",
            "980       Arizona State University   \n",
            "981                      Microsoft   \n",
            "982          University of Florida   \n",
            "983  University of Colorado System   \n",
            "\n",
            "                                                Skills  Ratings  \\\n",
            "0     Network Security, Python Programming, Linux, ...      4.8   \n",
            "1     Data Analysis, R Programming, SQL, Business C...      4.8   \n",
            "2     Project Management, Strategy and Operations, ...      4.8   \n",
            "3     Python Programming, Data Science, Machine Lea...      4.6   \n",
            "4     Digital Marketing, Marketing, Marketing Manag...      4.8   \n",
            "..                                                 ...      ...   \n",
            "979                                                NaN      NaN   \n",
            "980                                                NaN      NaN   \n",
            "981                                                NaN      NaN   \n",
            "982                                                NaN      NaN   \n",
            "983                                                NaN      NaN   \n",
            "\n",
            "         Review counts                                           Metadata  \n",
            "0     4.8(20K reviews)  Beginner · Professional Certificate · 3 - 6 Mo...  \n",
            "1    4.8(137K reviews)  Beginner · Professional Certificate · 3 - 6 Mo...  \n",
            "2    4.8(100K reviews)  Beginner · Professional Certificate · 3 - 6 Mo...  \n",
            "3    4.6(120K reviews)  Beginner · Professional Certificate · 3 - 6 Mo...  \n",
            "4     4.8(23K reviews)  Beginner · Professional Certificate · 3 - 6 Mo...  \n",
            "..                 ...                                                ...  \n",
            "979                NaN                                  Beginner · Course  \n",
            "980                NaN           Beginner · Specialization · 3 - 6 Months  \n",
            "981                NaN                    Beginner · Course · 1 - 4 Weeks  \n",
            "982                NaN                      Mixed · Course · 1 - 3 Months  \n",
            "983                NaN       Intermediate · Specialization · 3 - 6 Months  \n",
            "\n",
            "[984 rows x 7 columns]\n"
          ]
        }
      ]
    },
    {
      "cell_type": "code",
      "source": [
        "#checking whether the tuples are blank or not\n",
        "coursera.isnull().sum()"
      ],
      "metadata": {
        "colab": {
          "base_uri": "https://localhost:8080/"
        },
        "id": "qfHaM8gCneKM",
        "outputId": "4c150b8b-0a1c-499d-b151-3eb0994aefbe"
      },
      "execution_count": 3,
      "outputs": [
        {
          "output_type": "execute_result",
          "data": {
            "text/plain": [
              "Unnamed: 0         0\n",
              "Title              0\n",
              "Organization       0\n",
              "Skills           624\n",
              "Ratings           84\n",
              "Review counts     84\n",
              "Metadata           0\n",
              "dtype: int64"
            ]
          },
          "metadata": {},
          "execution_count": 3
        }
      ]
    },
    {
      "cell_type": "code",
      "source": [
        "#enhancing different skills\n",
        "skills=coursera['Skills'].unique\n",
        "print(skills)\n"
      ],
      "metadata": {
        "id": "3YJz2Ug6nzmX",
        "colab": {
          "base_uri": "https://localhost:8080/"
        },
        "outputId": "fcc40fc7-f162-48fb-ca67-4452d38c6ec3"
      },
      "execution_count": 4,
      "outputs": [
        {
          "output_type": "stream",
          "name": "stdout",
          "text": [
            "<bound method Series.unique of 0       Network Security, Python Programming, Linux, ...\n",
            "1       Data Analysis, R Programming, SQL, Business C...\n",
            "2       Project Management, Strategy and Operations, ...\n",
            "3       Python Programming, Data Science, Machine Lea...\n",
            "4       Digital Marketing, Marketing, Marketing Manag...\n",
            "                             ...                        \n",
            "979                                                  NaN\n",
            "980                                                  NaN\n",
            "981                                                  NaN\n",
            "982                                                  NaN\n",
            "983                                                  NaN\n",
            "Name: Skills, Length: 984, dtype: object>\n"
          ]
        }
      ]
    },
    {
      "cell_type": "code",
      "source": [
        "#details about each skills\n",
        "uni_skills=pd.Series(coursera['Skills']).drop_duplicates().tolist()\n",
        "print(uni_skills)"
      ],
      "metadata": {
        "id": "PPiUl-vEqPSa",
        "colab": {
          "base_uri": "https://localhost:8080/"
        },
        "outputId": "8de36b17-8dfa-4a49-aa95-baa788a7de55"
      },
      "execution_count": 5,
      "outputs": [
        {
          "output_type": "stream",
          "name": "stdout",
          "text": [
            "[' Network Security, Python Programming, Linux, Cloud Computing, Algorithms, Audit, Computer Programming, Computer Security Incident Management, Cryptography, Databases, Leadership and Management, Network Architecture, Risk Management, SQL', ' Data Analysis, R Programming, SQL, Business Communication, Spreadsheet Software, Business Analysis, Data Visualization, Data Management, General Statistics, Big Data, Communication, Computer Programming, Data Science, Data Visualization Software, Databases, Exploratory Data Analysis, Extract, Transform, Load, Leadership and Management, Microsoft Excel, Problem Solving, Small Data, Statistical Programming, Tableau Software', ' Project Management, Strategy and Operations, Leadership and Management, Communication, Business Communication, Collaboration, Agile Software Development, Software Engineering, Entrepreneurship, Scrum (Software Development), Planning, Supply Chain and Logistics, Change Management, Finance, Organizational Development, Product Management, Risk Management, Budget Management, Influencing, Culture, Emotional Intelligence, People Management, Problem Solving, Procurement', ' Python Programming, Data Science, Machine Learning, Data Analysis, Algorithms, Data Management, Data Visualization, Human Learning, R Programming, Computer Programming, Data Mining, Data Structures, Database Administration, Database Application, Database Theory, Databases, Deep Learning, Exploratory Data Analysis, Machine Learning Algorithms, Plot (Graphics), SQL, Data Model, Statistical Machine Learning, General Statistics, Probability & Statistics, Regression, Reinforcement Learning, Statistical Programming, Big Data, Cloud Computing, IBM Cloud, Writing', ' Digital Marketing, Marketing, Marketing Management, Media Strategy & Planning, Sales, E-Commerce, Data Analysis, Social Media, Search Engine Optimization, Advertising, Communication, Persona Research, Strategy, Web Design, Web Development, Web Development Tools, Writing, Data Management, Market Analysis', ' Python Programming, Microsoft Excel, Data Visualization, Spreadsheet Software, Data Analysis, Databases, SQL, Plot (Graphics), Data Management, Data Structures, Exploratory Data Analysis, Machine Learning, Business Analysis, Computer Programming, Database Administration, Database Application, Database Theory, Statistical Visualization, Data Mining, Data Science, General Statistics, NoSQL, R Programming, Cloud Computing, Data Visualization Software, IBM Cloud, Interactive Data Visualization, Machine Learning Algorithms, Probability & Statistics, Regression, Statistical Programming', ' Computer Networking, Network Architecture, Network Model, Networking Hardware, Network Analysis, Computer Architecture, Critical Thinking, Problem Solving, Communication, Human Computer Interaction, Network Security, Linux, System Security, Cloud Computing, Computer Programming, Customer Support, Cryptography, Leadership and Management, Operating Systems', ' Machine Learning, Machine Learning Algorithms, Applied Machine Learning, Algorithms, Deep Learning, Machine Learning Software, Artificial Neural Networks, Human Learning, Python Programming, Regression, Statistical Machine Learning, Tensorflow, Mathematics, Critical Thinking, Network Model, Reinforcement Learning', ' User Experience, User Experience Design, User Research, Audit, Collaboration, Human Computer Interaction, Planning, Product Design, Product Development, Social Media, Web Design, Web Development Tools', ' DevOps, Software Engineering, Cloud Computing, Computer Programming, Application Development, Python Programming, Software Architecture, Cloud Applications, Continuous Delivery, Continuous Integration, Software Engineering Tools, Agile Software Development, Programming Principles, Security Engineering, Software Testing, Cloud Infrastructure, Kubernetes, Cloud-Based Integration, Microarchitecture, Cloud Platforms, Communication, IBM Cloud, Scrum (Software Development), Software Security, Cloud Storage, Docker (Software), Linux, Software-Defined Networking, Technical Product Management, Collaboration, Leadership and Management, Data Analysis, Mergers & Acquisitions', ' Machine Learning, Deep Learning, Machine Learning Algorithms, Artificial Neural Networks, Python Programming, Cloud Computing, Computer Vision, Human Learning, IBM Cloud, Applied Machine Learning, Algorithms, Cloud API, Machine Learning Software, Natural Language Processing, Human Computer Interaction, Computer Programming, Cloud Applications, Computer Programming Tools, Application Development, Visualization (Computer Graphics), Data Analysis, Critical Thinking, Cloud-Based Integration, Software As A Service, Data Science', ' Cloud Computing, Python Programming, Cloud Applications, Computer Programming, IBM Cloud, Application Development, Cloud Infrastructure, DevOps, Web Development, Cloud Management, Cloud Platforms, Javascript, Software Architecture, Cloud API, Cloud Storage, Cloud-Based Integration, Full-Stack Web Development, Software Engineering, Continuous Delivery, Continuous Integration, Docker (Software), Software As A Service, Microarchitecture, Django (Web Framework), Database Application, Databases, Kubernetes, SQL, Software Engineering Tools, Data Management, NoSQL, Collaboration, Computer Science, Data Analysis, Front-End Web Development, Leadership and Management, Mergers & Acquisitions, React (web framework)', ' Data Science, Python Programming, Data Analysis, Data Management, R Programming, Computer Programming, Data Mining, Data Structures, Database Administration, Database Application, Database Theory, Databases, SQL, Data Model, Machine Learning, Statistical Machine Learning, Big Data, Cloud Computing, Deep Learning, IBM Cloud, Regression, Writing', ' Python Programming, Data Analysis, General Statistics, Probability & Statistics, Basic Descriptive Statistics, Statistical Analysis, Statistical Tests, Mathematical Theory & Analysis, Statistical Programming, Computer Programming, Data Visualization, Data Science, Plot (Graphics), R Programming, Data Management, Data Structures, Database Administration, Database Application, Database Theory, Databases, SQL, Cloud Computing, IBM Cloud', ' Data Management, Databases, Database Administration, Extract, Transform, Load, Python Programming, Big Data, SQL, Apache, Database Design, Distributed Computing Architecture, Data Architecture, Database Application, NoSQL, Data Structures, Data Model, Data Warehousing, Cloud Computing, Database Theory, Data Engineering, Data Visualization, Computer Programming, IBM Cloud, Data Mining, Machine Learning, Cloud Applications, Data Analysis, Leadership and Management, Kubernetes, PostgreSQL, Devops Tools, Business Intelligence, Data Visualization Software, Linux, Network Security, Statistical Programming, Data Science', ' Algorithms, Applied Machine Learning, Artificial Neural Networks, Computer Vision, Deep Learning, Human Learning, Machine Learning, Machine Learning Algorithms, Machine Learning Software, Cloud Computing, Data Science, Critical Thinking, Big Data, Data Analysis, Data Mining, Cloud Applications, Cloud Infrastructure, Cloud Platforms, Cloud Storage, DevOps, IBM Cloud, Regression, Writing', ' Business Analysis, Business Transformation, Strategy, Cloud Computing, Data Analysis, Strategy and Operations, Applied Machine Learning, Entrepreneurship, Leadership and Management, Algorithms, Artificial Neural Networks, Computer Vision, Deep Learning, Human Learning, Innovation, Machine Learning, Machine Learning Algorithms, Machine Learning Software, Marketing, Sales, Data Visualization, Research and Design, Critical Thinking, Business Design, Business Development, Customer Analysis, Product Strategy, Market Analysis, Data Management, Data Mining, Databases, Python Programming, SQL, Cloud Applications, Cloud Infrastructure, Cloud Platforms, Cloud Storage, Data Science, DevOps, IBM Cloud, NoSQL, R Programming, Microsoft Excel', ' Machine Learning, Deep Learning, Artificial Neural Networks, Machine Learning Algorithms, Applied Machine Learning, Python Programming, Machine Learning Software, Network Model, Algorithms, Computer Programming, Computer Vision, Network Architecture, Natural Language Processing, Tensorflow, Human Learning, Data Analysis, Data Model, Exploratory Data Analysis, Organizational Development, Process Analysis, Strategy, Computational Logic, Mathematics, Mathematical Theory & Analysis, Linear Algebra, Regression, Calculus', ' Data Management, Python Programming, Data Structures, Databases, Data Engineering, Database Application, SQL, Database Administration, Database Design, Extract, Transform, Load, Computer Programming, Data Architecture, Database Theory, Data Mining, Data Model, Data Analysis, Leadership and Management, Data Warehousing, PostgreSQL, Big Data, IBM Cloud, Network Security, NoSQL, Cloud Computing, Data Science', ' Python Programming, Data Analysis, Machine Learning, Algorithms, Computer Programming, Data Science, Data Visualization, Exploratory Data Analysis, General Statistics, Machine Learning Algorithms, Plot (Graphics), Probability & Statistics, Regression, Statistical Programming', ' Application Development, Software Engineering, Python Programming, Computer Programming, Software Architecture, DevOps, Software Engineering Tools, Cloud Applications, Cloud Computing, Security Engineering, Programming Principles, Web Development, Cloud Infrastructure, Cloud-Based Integration, Microarchitecture, Agile Software Development, Communication, IBM Cloud, Kubernetes, Software Security, Data Management, Database Application, Databases, Docker (Software), Linux, SQL, Software-Defined Networking, Technical Product Management, Collaboration, Django (Web Framework), Leadership and Management, Data Analysis, Mergers & Acquisitions', ' Machine Learning, Data Analysis, Applied Machine Learning, Data Management, Leadership and Management, Machine Learning Algorithms, Algorithms, Artificial Neural Networks, Business Process Management, Computer Vision, Data Architecture, Deep Learning, Human Learning, Machine Learning Software, Data Science, Strategy and Operations, Critical Thinking, Business Analysis, Business Transformation, Strategy, Big Data, Data Mining, Innovation, Regression, Writing', ' Data Analysis, R Programming, Computer Programming, Data Visualization, Data Management, Statistical Programming, Databases, Plot (Graphics), Exploratory Data Analysis, Statistical Visualization, Data Analysis Software, Data Structures, Statistical Analysis, Microsoft Excel, SQL, Basic Descriptive Statistics, General Statistics, Interactive Data Visualization, Database Application, Extract, Transform, Load, Spreadsheet Software, Visualization (Computer Graphics), Programming Principles, Regression, Database Administration, Database Design, Database Theory, Computer Programming Tools, Data Mining, Data Visualization Software, Statistical Machine Learning, Visual Design, Probability & Statistics, System Programming, Business Analysis, Python Programming, Data Science, NoSQL', ' Microsoft Excel, Data Visualization, Spreadsheet Software, Data Analysis, Plot (Graphics), Databases, Python Programming, SQL, Statistical Visualization, Business Analysis, Data Management, Data Mining, Data Science, Interactive Data Visualization, NoSQL, R Programming, Data Visualization Software', ' Python Programming, Computer Programming, Software Engineering, Application Development, Programming Principles, Software Architecture, Software Engineering Tools, Agile Software Development, Communication, Software-Defined Networking, Technical Product Management, Collaboration, Leadership and Management, Linux, Data Analysis, Mergers & Acquisitions', ' Creativity, Data Analysis, Problem Solving, Writing', ' Human Learning, Machine Learning, Artificial Neural Networks, Deep Learning, Machine Learning Algorithms, Human Computer Interaction, Natural Language Processing, Algorithms, Applied Machine Learning, Cloud Computing, Computer Vision, IBM Cloud, Machine Learning Software, Critical Thinking, Cloud API, Computer Programming, Data Science', ' Machine Learning, Natural Language Processing, Python Programming', ' Cloud Computing, Cloud Applications, IBM Cloud, Javascript, Cloud Infrastructure, Cloud Platforms, DevOps, Cloud Management, Computer Programming, Web Development, Cloud API, Cloud Storage, Continuous Integration, Software As A Service, Continuous Delivery, NoSQL, Computer Science, Front-End Web Development, React (web framework)', ' DevOps, Cloud Computing, Software Engineering, Agile Software Development, Continuous Delivery, Continuous Integration, Scrum (Software Development), Cloud Applications, Cloud Infrastructure, Cloud Platforms, Cloud Storage, IBM Cloud, Leadership and Management', ' Communication, Computer Programming, Data Analysis, Data Visualization, Exploratory Data Analysis, General Statistics, Machine Learning, Planning, Probability Distribution, Project Management, Python Programming, Regression, Statistical Analysis, Tableau Software', ' Computer Security Incident Management, Leadership and Management, Cloud Computing, System Security, Computer Networking, Risk Management, Cloud Storage, Operating Systems, Network Security, Cloud Platforms, Network Architecture, Networking Hardware, Cloud Applications, Cloud Infrastructure, Computer Programming, Cyberattacks, Databases, DevOps, Security Engineering, Cryptography, IBM Cloud, Operations Management, Software Engineering', ' Customer Success, Cloud Computing, Computer Networking, Strategy and Operations, Operating Systems, Cloud Storage, Cloud Applications, Leadership and Management, System Security, Customer Support, Communication, Computer Programming, Cyberattacks, Cloud Infrastructure, Cloud Platforms, Databases, DevOps, Networking Hardware, Cryptography, IBM Cloud, Information Technology, Network Architecture, Network Security, Security Engineering, Software Engineering', ' Data Management, Databases, SQL, Data Visualization, Database Administration, Database Application, Database Design, Microsoft Excel, Data Structures, Data Architecture, Database Theory, Spreadsheet Software, Data Model, Data Warehousing, Python Programming, Computer Programming, Data Analysis, NoSQL, PostgreSQL, Professional Development, Plot (Graphics), Business Analysis, Statistical Visualization, Data Mining, Data Science, Data Visualization Software, R Programming, Business Intelligence, Forecasting, Interactive Data Visualization, Statistical Analysis', ' HTML and CSS, Javascript, Front-End Web Development, React (web framework), Web Development, User Experience, Algorithms, Computer Science, Web Design, Application Development, Computer Programming, Software Engineering, Web Development Tools, Collaboration, Communication, Data Structures, Human Computer Interaction, Interactive Design, Linux, Problem Solving, Product Design, Software Engineering Tools, Software Testing', ' Machine Learning, Natural Language Processing', ' Cloud Computing, Computer Networking, Operating Systems, Cloud Storage, System Security, Cloud Applications, Cyberattacks, Cloud Infrastructure, Cloud Platforms, Databases, DevOps, Networking Hardware, Computer Programming, Cryptography, IBM Cloud, Network Architecture, Network Security, Security Engineering, Software Engineering', ' Data Analysis, Data Management, Data Mining, Data Model, Data Visualization, Extract, Transform, Load, Microsoft Excel, Power BI, SQL', ' Strategy, Writing', ' Machine Learning, Deep Learning, Artificial Neural Networks, Human Learning, Python Programming, Machine Learning Algorithms, Applied Machine Learning, Algorithms, Machine Learning Software, Regression, Network Model, Statistical Machine Learning, Computer Vision, Apache, Big Data, Computer Programming, Data Analysis, Network Architecture, Extract, Transform, Load, Data Visualization, Tensorflow, Visualization (Computer Graphics), Dimensionality Reduction, Natural Language Processing, Data Science', ' Software Engineering, Agile Software Development, Computer Programming, Software Engineering Tools, Application Development, Programming Principles, Software Architecture, Communication, Cloud Applications, Scrum (Software Development), Software-Defined Networking, Technical Product Management, Leadership and Management, Project Management, Cloud Computing, IBM Cloud, Information Technology, Operating Systems, Python Programming, Risk Management', ' Data Management, Database Administration, Databases, SQL, Database Application, Extract, Transform, Load, Data Warehousing, Data Structures, Database Design, Data Engineering, Computer Programming, Data Analysis, Data Architecture, Database Theory, Apache, Python Programming, Leadership and Management, Professional Development, Big Data, Data Model, Distributed Computing Architecture, Business Analysis, PostgreSQL, Devops Tools, Cloud Computing, Linux, IBM Cloud, Network Security, NoSQL, Business Intelligence, Data Science', ' Natural Language Processing, Software Engineering', ' Data Analysis, Data Science, Natural Language Processing', ' Linux, Computer Programming, Leadership and Management, SQL', ' Project Management, Strategy and Operations, Business Communication, Change Management, Organizational Development, Communication, Culture, Emotional Intelligence, Influencing, Leadership and Management, People Management, Planning', ' Machine Learning, Machine Learning Algorithms, Regression, Applied Machine Learning, Algorithms, Statistical Machine Learning, Mathematics, Critical Thinking, Machine Learning Software, Python Programming', ' Data Management, Extract, Transform, Load, Data Warehousing, Database Administration, Apache, Computer Programming, Python Programming, Data Analysis, Data Structures, Databases, Big Data, Database Application, Distributed Computing Architecture, Cloud Computing, Database Theory, Devops Tools, Leadership and Management, Linux, SQL, Business Intelligence, IBM Cloud', ' Data Analysis, SQL, Data Visualization, Business Analysis, Spreadsheet Software, Data Science, Databases, Microsoft Excel', ' Mathematics, Algebra, Linear Algebra, Machine Learning, Machine Learning Algorithms, Calculus, Differential Equations, Regression, Artificial Neural Networks, Mathematical Theory & Analysis, Python Programming, Algorithms, Critical Thinking, Dimensionality Reduction, General Statistics, Probability & Statistics, Statistical Analysis', ' Software Engineering, Computer Programming, Software Architecture, Application Development, Software Engineering Tools, Cloud Applications, Cloud Computing, Communication, DevOps, Programming Principles, Web Development, Agile Software Development, Cloud Infrastructure, Cloud-Based Integration, IBM Cloud, Kubernetes, Microarchitecture, Javascript, Continuous Delivery, Docker (Software), Front-End Web Development, Leadership and Management, Software-Defined Networking, Technical Product Management, Collaboration, Continuous Integration, Computer Science, Mergers & Acquisitions, NoSQL, Python Programming, React (web framework)', ' Accounting, Finance, General Accounting, Financial Accounting, Strategy and Operations, Account Management, Accounts Payable and Receivable, Cost Accounting, Leadership and Management, Strategy, Cash Management, Communication, Financial Analysis, Generally Accepted Accounting Principles (GAAP), Marketing, Brand Management, Budget Management, Customer Analysis, Market Analysis, Marketing Design, Product Marketing, Product Strategy, Entrepreneurship, Human Resources, People Analysis, Performance Management, Business Analysis, Digital Marketing, Estimation, Mathematical Theory & Analysis, Change Management, Organizational Development, People Management, Talent Management, Planning, Operations Management', ' Cloud Computing, Cloud Platforms, Collaboration, Computer Programming, Data Structures, Google Cloud Platform, Leadership and Management, Problem Solving, Python Programming', ' Data Science, Deep Learning, Machine Learning, Artificial Neural Networks, Business Transformation, Human Learning, Planning, Project Management', ' DevOps, Software Engineering, Computer Programming, Agile Software Development, Programming Principles, Software Engineering Tools, Application Development, Software Architecture, Communication, Continuous Delivery, Cloud Applications, Continuous Integration, Scrum (Software Development), Software-Defined Networking, Technical Product Management, Leadership and Management, Project Management, Cloud Computing, IBM Cloud, Information Technology, Operating Systems, Python Programming', ' Computer Programming, Python Programming, Computer Programming Tools, Programming Principles, Data Structures, Computational Thinking, Computational Logic, Data Analysis, Software Engineering, Algorithms, Critical Thinking, Problem Solving, Data Architecture, Data Management, Databases, Theoretical Computer Science, Database Administration, Data Model, Data Visualization, Database Design, Database Theory, Web Development, Web Development Tools, Computer Networking, Extract, Transform, Load, SQL, HTML and CSS', ' Software Engineering, Agile Software Development, Scrum (Software Development), Business Analysis, Communication, Leadership and Management, Project Management, Risk Management', ' DevOps, Software Engineering, Cloud Computing, Continuous Delivery, Continuous Integration, Application Development, Cloud Applications, Software Architecture, Security Engineering, Computer Programming, Kubernetes, Cloud Infrastructure, Cloud-Based Integration, Microarchitecture, Software Testing, Agile Software Development, IBM Cloud, Docker (Software), Scrum (Software Development), Software Security, Leadership and Management', ' Machine Learning, Leadership and Management, Data Analysis, Critical Thinking, Data Mining', ' Cloud Applications, Software Engineering, Computer Programming, Application Development, Cloud Computing, IBM Cloud, Programming Principles, Software Engineering Tools, Web Development, Agile Software Development, Cloud API, Cloud Infrastructure, Cloud Management, Cloud Platforms, Communication, DevOps, Software Architecture, Continuous Integration, Software As A Service, Cloud Storage, Continuous Delivery, Front-End Web Development, Leadership and Management, Software-Defined Networking, Technical Product Management, Collaboration, Javascript, NoSQL, Mergers & Acquisitions, Python Programming, React (web framework), Strategy, User Experience', ' Cryptography, Python Programming, Linux, Network Security, Security Strategy, Software Security, System Software, Computer Security Incident Management, Networking Hardware, Security Software, Cloud Computing, Cyberattacks, DevOps, Mobile Security, Computer Programming, Databases, Leadership and Management, Operating Systems, SQL, System Security', ' Software Engineering, Computer Programming, Software Architecture, Application Development, Software Engineering Tools, Cloud Applications, Cloud Computing, Communication, DevOps, Programming Principles, Web Development, Agile Software Development, Cloud Infrastructure, Cloud-Based Integration, IBM Cloud, Kubernetes, Microarchitecture, Javascript, Continuous Delivery, Docker (Software), Leadership and Management, Software-Defined Networking, Technical Product Management, Collaboration, Continuous Integration, Computer Science, Mergers & Acquisitions, NoSQL, Python Programming', ' Marketing, Digital Marketing, Social Media, Advertising, Communication, Media Strategy & Planning, Marketing Management, Customer Analysis, Brand Management, Business Analysis, Marketing Design, Sales, Strategy and Operations, Data Analysis, General Statistics, Market Analysis, Probability & Statistics, Leadership and Management, Research and Design, Planning, Entrepreneurship', ' React (web framework), Javascript, Mobile Development, Mobile Development Tools, Web Development, HTML and CSS, Front-End Web Development, Web Development Tools, Application Development, Computer Programming, User Experience, Web Design, Software Engineering Tools, SQL, Software Engineering, Agile Software Development, Collaboration, Data Management, Human Computer Interaction, Interactive Design, Linux, Product Design, Product Lifecycle, Project Management', ' Finance, Business Analysis, Data Analysis, Financial Analysis, Accounting, Forecasting, Financial Management, General Accounting, General Statistics, Statistical Analysis, Financial Accounting, Mathematical Theory & Analysis, Accounts Payable and Receivable, Probability & Statistics, Basic Descriptive Statistics, Cost Accounting, Data Model, Mathematics, Regression, Estimation, Management Accounting, Statistical Tests, Budget Management, Microsoft Excel, Spreadsheet Software, Leadership and Management, Entrepreneurship, Computer Programming', ' Communication, Computer Architecture, Computer Networking, Customer Support, Networking Hardware', ' Natural Language Processing, Machine Learning, Python Programming, Statistical Programming, Artificial Neural Networks, Deep Learning, Probability & Statistics, Statistical Machine Learning, Machine Learning Algorithms, Applied Machine Learning, Computer Programming, Human Learning, Linear Algebra', ' Machine Learning, Tensorflow, Deep Learning, Machine Learning Algorithms, Artificial Neural Networks, Applied Machine Learning, Human Learning, Computer Programming, Python Programming, Machine Learning Software, Natural Language Processing, Computer Vision, Forecasting, Data Visualization, Statistical Machine Learning, Statistical Analysis', ' Accounting, Finance, Financial Accounting, General Accounting, Financial Analysis, Generally Accepted Accounting Principles (GAAP), Accounts Payable and Receivable, Cost Accounting, Account Management, Cash Management, Estimation, Decision Making, Investment Management, Taxes, Budget Management, Management Accounting, Problem Solving, Business Analysis, Mathematical Theory & Analysis, Mathematics, Entrepreneurship', ' Cryptography, Network Security, Linux, Networking Hardware, Security Software, System Software, Cloud Computing, Cyberattacks, Databases, Leadership and Management, Operating Systems, SQL, System Security', ' Digital Marketing, Marketing, E-Commerce, Strategy, Data Analysis, Social Media', ' Machine Learning, Applied Machine Learning, Tensorflow, Python Programming, Statistical Programming, DevOps, Devops Tools, Exploratory Data Analysis, Feature Engineering, Machine Learning Software, Probability & Statistics, Cloud Computing, Deep Learning, Google Cloud Platform, Performance Management, Strategy and Operations, Kubernetes, Leadership and Management', ' Python Programming, Databases, HTML and CSS, SQL, Database Design, Programming Principles, Algorithms, Computer Science, Big Data, React (web framework), Software Testing, Web Development, Application Development, Back-End Web Development, Cloud API, Cloud Computing, Cloud Infrastructure, Collaboration, Communication, Computer Programming, Data Model, Data Structures, Data Warehousing, Database Administration, Database Application, Database Theory, DevOps, Django (Web Framework), Front-End Web Development, Full-Stack Web Development, Javascript, Kubernetes, Linux, Problem Solving, Semantic Web, Software Engineering, Software Engineering Tools, Statistical Programming, Tensorflow, Web Design, Web Development Tools', ' Accounting, General Accounting, Financial Accounting, Business Analysis, Data Analysis, Financial Analysis, Cash Management, Finance, Financial Management, Accounts Payable and Receivable, Cost Accounting, Inventory Management, Accounting Software, Taxes', ' Mobile Development, Swift Programming, iOS Development, Computer Programming, Mobile Development Tools, React (web framework), Application Development, Software Engineering, Data Structures, User Experience, User Experience Design, Web Development, Computer Programming Tools, Software Engineering Tools, Front-End Web Development, Algorithms, Computer Science, Interactive Design, Javascript, Collaboration, Communication, Data Management, Django (Web Framework), Human Computer Interaction, Linux, Problem Solving, Product Design, Software Architecture, Web Design', ' Mobile Development, Computer Programming, React (web framework), Mobile Development Tools, Application Development, Software Engineering, Android Development, Other Programming Languages, Web Development, User Experience, Algorithms, Computer Science, Front-End Web Development, Javascript, Programming Principles, Cloud API, Collaboration, Communication, Data Management, Data Structures, Databases, Human Computer Interaction, Interactive Design, Linux, Problem Solving, Product Design, Software Architecture, Software Engineering Tools, Swift Programming, Web Design', ' Creativity, Problem Solving, Writing', ' Audit, Leadership and Management, Risk Management', ' Machine Learning, Machine Learning Algorithms, Applied Machine Learning, Data Analysis, Algorithms, Human Learning, Leadership and Management, Business Analysis, Decision Making, Human Resources, People Management, People Analysis, Artificial Neural Networks, Deep Learning, Business Transformation, Customer Analysis, Finance, Financial Accounting, Marketing, Probability & Statistics, Regulations and Compliance, Statistical Machine Learning, Strategy, User Experience, Big Data', ' Business Analysis, Data Analysis, Finance, General Statistics, Probability & Statistics, Financial Analysis, Statistical Analysis, Forecasting, Mathematics, Spreadsheet Software, Statistical Tests, Basic Descriptive Statistics, Data Model, Mathematical Theory & Analysis, Risk Management, Correlation And Dependence, Probability Distribution, Decision Making, Investment Management, Accounting, Leadership and Management, Regression, Financial Accounting, Microsoft Excel, Performance Management, Cash Management, General Accounting, Computer Programming', ' User Experience, User Experience Design, User Research, Product Development', ' Business Intelligence, Data Analysis, Data Management, Data Model, Data Visualization, Extract, Transform, Load, Leadership and Management, Tableau Software', ' SQL, Databases, Statistical Programming, Python Programming, Database Design, Programming Principles, Algorithms, Computer Science, Big Data, Software Testing, Application Development, Collaboration, Communication, Computer Programming, Data Analysis, Data Management, Data Model, Data Structures, Data Warehousing, Database Administration, Database Application, Database Theory, Django (Web Framework), Javascript, Linux, Problem Solving, Project Management, Software Engineering, Software Engineering Tools, Tableau Software, Tensorflow, Web Development', ' Project Management, Strategy and Operations, Collaboration, Communication, Leadership and Management, Planning', ' Business Communication, Data Analysis, Spreadsheet Software, Big Data, Communication, Leadership and Management, Problem Solving, Small Data', ' Visual Design, Communication, Microsoft Excel, Data Visualization, Interactive Data Visualization, Spreadsheet Software, Computer Graphics, Critical Thinking, Data Analysis, Visualization (Computer Graphics), Collaboration, User Experience, Computer Graphic Techniques, Research and Design, Statistical Visualization, User Experience Design, Writing, Basic Descriptive Statistics, Data Analysis Software, Graphic Design, Databases, General Accounting, Marketing Design, Product Design, Software Engineering Tools', ' Cloud Computing, Computer Architecture, Data Management, Leadership and Management, Microsoft Azure, Network Security, Operating Systems, System Security', ' Applied Machine Learning, Machine Learning, Machine Learning Algorithms, Algorithms, Artificial Neural Networks, Deep Learning, Network Model, Tensorflow, Machine Learning Software, Python Programming', ' Communication, SAS (Software), Regulations and Compliance, Systems Design, System Security, Network Architecture, Process Analysis, Training, Decision Making, Operating Systems', ' Finance, Investment Management, Risk Management, Banking, Behavioral Economics, Critical Thinking, Decision Making, Financial Analysis, Innovation, Regulations and Compliance, Leadership and Management', ' Benefits, Compensation, Employee Relations, Mergers & Acquisitions, Performance Management, Recruitment, Risk Management, Training', ' Spreadsheet Software, Business Analysis, Microsoft Excel, Data Analysis, Plot (Graphics), Data Visualization, Data Model, Databases, Finance, Leadership and Management', ' Computer Networking, Network Architecture, Network Model, Networking Hardware, Network Analysis, Critical Thinking, Problem Solving, Computer Architecture, Human Computer Interaction, Network Security, Cloud Computing', ' Machine Learning, Machine Learning Algorithms, Human Learning, Statistical Machine Learning, Data Analysis, Probability & Statistics, Applied Machine Learning, Algorithms, Forecasting, Statistical Analysis, Regression, Deep Learning, General Statistics, Python Programming, Machine Learning Software, Artificial Neural Networks, Exploratory Data Analysis, Feature Engineering, Correlation And Dependence, Dimensionality Reduction, Statistical Tests, Probability Distribution, Reinforcement Learning, Basic Descriptive Statistics, Network Model, Tensorflow', ' Critical Thinking', ' Network Security, Cloud Computing, Network Architecture', ' Google Cloud Platform, Cloud Computing, Cloud Applications, Cloud Engineering, Cloud Platforms, Cloud Infrastructure, Cloud Management, Cloud Storage, Other Cloud Platforms and Tools, Cloud-Based Integration, Computer Networking, DevOps, Google App Engine, Computer Architecture, Cross Platform Development, Kubernetes, Billing & Invoicing, Computer Security Models, Critical Thinking, Network Architecture, Network Analysis, Computer Programming, Operational Analysis, Software Testing, Leadership and Management', ' Artificial Neural Networks, Deep Learning, Machine Learning, Machine Learning Algorithms, Python Programming, Computational Logic, Computer Programming, Network Architecture, Network Model, Calculus, Human Learning, Regression, Mathematics', ' Data Analysis, Business Analysis, Probability & Statistics, Statistical Analysis, Leadership and Management, Strategy and Operations, Basic Descriptive Statistics, Exploratory Data Analysis, Financial Analysis, Forecasting, Data Model, Mathematics, Performance Management, Strategy, Accounting, Customer Analysis, Human Resources, Human Resources Operations, Market Analysis, Market Research, Marketing, Mathematical Theory & Analysis, Operations Management, Operations Research, Organizational Development, People Analysis, People Management, Spreadsheet Software, Talent Management, Financial Accounting, Collaboration, Finance, Regulations and Compliance', ' Cloud Computing, Google Cloud Platform, Cloud Platforms, Cloud Applications, Cloud Engineering, Cloud Storage, Cloud Infrastructure, Cloud Management, Computer Networking, Cloud-Based Integration, Computer Architecture, Google App Engine, Other Cloud Platforms and Tools, Cross Platform Development, DevOps, Kubernetes, Network Architecture, Computer Programming, Billing & Invoicing, Data Analysis, Leadership and Management', ' Machine Learning, Machine Learning Algorithms, Algorithms, Statistical Machine Learning, Human Learning, Probability & Statistics, Applied Machine Learning, Data Analysis, Regression, General Statistics, Python Programming, Feature Engineering, Machine Learning Software, Exploratory Data Analysis, Dimensionality Reduction, Statistical Analysis, Probability Distribution, Statistical Tests, Basic Descriptive Statistics', ' Business Analysis, Communication, Leadership and Management, Project Management, Risk Management', ' Machine Learning, Google Cloud Platform, Applied Machine Learning, Cloud Computing, Human Learning, Machine Learning Software, Cloud Platforms, Machine Learning Algorithms, Tensorflow, Deep Learning, Feature Engineering, Artificial Neural Networks, Training, DevOps, Exploratory Data Analysis, Python Programming, Cloud-Based Integration, Data Analysis, Data Visualization, Big Data, Probability & Statistics, Regression, Statistical Programming, Statistical Visualization, Algorithms, Continuous Integration, SQL, Cloud API, Apache, Extract, Transform, Load, Docker (Software)', ' Cloud Applications, Cloud Computing, Google Cloud Platform, Cloud Infrastructure, Cloud Platforms, Cloud Management, Other Cloud Platforms and Tools, Cloud Engineering, Cloud Storage, Cloud-Based Integration, Computer Networking, DevOps, Google App Engine, Network Architecture, Computer Programming, Kubernetes, Leadership and Management', ' Leadership and Management, Strategy and Operations, Cloud-Based Integration, Business Analysis, Business Transformation, Business Process Management, Cloud Applications, Strategy, Customer Analysis, Planning, Project Management, Business Intelligence, Software As A Service, Supply Chain and Logistics, Cloud Standards, Cloud Computing, Network Architecture, Software Architecture, System Software, Communication', ' Javascript, Computer Programming, Web Development, Computer Science, Front-End Web Development, NoSQL, React (web framework)', ' Agile Software Development, Product Management, Leadership and Management, Design and Product, Software Engineering, Product Development, Project Management, User Experience, Customer Analysis, Product Design, User Research, Data Analysis, Communication, Continuous Delivery, People Analysis, Planning, Product Strategy, Strategy', ' Graphic Design, Visual Design, Communication, Computer Graphic Techniques, Computer Graphics, Creativity, Graph Theory, Visualization (Computer Graphics), Geometry, Interactive Design', nan, ' Python Programming, Computer Programming, Data Analysis', ' Amazon Web Services, Cloud Computing, Cloud Storage, Data Management, Big Data, Cloud Applications, Cloud Engineering, Cloud Platforms, Data Analysis, Data Warehousing, Extract, Transform, Load, Cloud Management, Data Architecture, Cloud Infrastructure, Data Visualization, Database Design, Other Cloud Platforms and Tools, Software Architecture, Leadership and Management, Machine Learning', ' Cloud Computing, Google Cloud Platform, Cloud Platforms, Cloud Engineering, Cloud Infrastructure, Network Security, Computer Networking, Computer Security Models, Cloud Applications, Cloud Management, Cloud Storage, Network Architecture, Software Security, System Security, Other Cloud Platforms and Tools, Security Engineering, Security Strategy, Google App Engine, Network Model, Computer Security Incident Management, DevOps, Software-Defined Networking, Security Software, Kubernetes, Leadership and Management', ' Amazon Web Services, Cloud API, Cloud Computing, Cloud Infrastructure, Cloud Storage, Continuous Integration, Customer Support, Data Analysis, Data Architecture, DevOps, Information Technology, Leadership and Management, Project Management, Python Programming, Software Architecture, Software Testing, Strategy, Web Development', ' Cloud Computing, Google Cloud Platform, Cloud Platforms, Big Data, Data Management, Data Analysis, Data Analysis Software, Databases, Computer Networking, Applied Machine Learning, Data Warehousing, Machine Learning, SQL, Communication, Cloud Storage, Data Architecture, Human Learning, Machine Learning Algorithms, Machine Learning Software, Algorithms, Cloud Applications, Cloud Infrastructure, Distributed Computing Architecture, Business Analysis, Leadership and Management, Problem Solving, Apache, Python Programming, Warehouse Management, Feature Engineering, Statistical Programming, Tensorflow', ' Data Analysis, Business Analysis, Data Management, Data Visualization, Microsoft Excel, Data Analysis Software, Spreadsheet Software, Problem Solving, Statistical Analysis, Interactive Data Visualization, Data Structures, Statistical Visualization, Extract, Transform, Load, Data Model, Data Visualization Software, General Statistics, Big Data, Critical Thinking, Professional Development, Visualization (Computer Graphics), Decision Making, Communication, Business Communication, Storytelling, Customer Analysis, Forecasting, Visual Design, Planning', ' Amazon Web Services, Cloud Computing, Cloud Infrastructure, Cloud Management, Cloud Applications, Cloud Platforms, Cloud Engineering, Cloud Storage, Network Security, Cloud API, Cloud-Based Integration, Computer Security Models, Security Engineering, Security Software, Security Strategy, System Security, Software Security, Distributed Computing Architecture, Other Cloud Platforms and Tools, Data Management, Database Application, Database Design, Databases, Software Architecture, Data Architecture, Continuous Delivery, Data Visualization, Leadership and Management, Data Analysis', ' Databases, SQL, Data Management, Data Analysis, Big Data, Data Model, Exploratory Data Analysis, Database Administration, Problem Solving, Database Design, Business Analysis, Database Application, Extract, Transform, Load, Critical Thinking, Apache, Data Architecture, Customer Analysis, Distributed Computing Architecture, Data Science', ' Communication, Leadership and Management, People Management', ' Artificial Neural Networks, Deep Learning, Machine Learning', ' Linux, Databases, SQL', ' Google Cloud Platform, Cloud Computing, Cloud Platforms, Big Data, Data Analysis, Data Management, Applied Machine Learning, Data Warehousing, Machine Learning, SQL, Cloud Storage, Data Architecture, Human Learning, Machine Learning Algorithms, Machine Learning Software, Algorithms, Cloud Applications, Cloud Infrastructure, Distributed Computing Architecture, Apache, Python Programming, Warehouse Management, Feature Engineering, Statistical Programming, Tensorflow', ' Project Management, Leadership and Management, Strategy and Operations, Planning, Estimation, Operations Management, Budget Management, Accounting, Decision Making, Finance, Cost Accounting, Critical Thinking, Financial Accounting, Performance Management, Strategy, Financial Analysis, Investment Management, Financial Management, Process Analysis, Risk Management, Computational Thinking, Computational Logic, Statistical Visualization, Collaboration, Innovation, Change Management, Business Transformation, Supply Chain and Logistics, Feature Engineering, Entrepreneurship', ' Linux, SQL', ' Computer Programming, Databases, Linux, Python Programming, SQL', ' Cloud Applications, Cloud Computing, Google Cloud Platform, Cloud Infrastructure, Cloud Platforms, Cloud API, Cloud Engineering, Other Cloud Platforms and Tools, Cloud Management, Cloud Storage, Cloud Load Balancing, DevOps, Application Development, Google App Engine, Software Architecture, Computer Architecture, Docker (Software), Machine Learning Software, Kubernetes', ' Project Management, Strategy and Operations, Leadership and Management, Entrepreneurship, Finance, Planning, Supply Chain and Logistics, Budget Management, Communication, Risk Management, Procurement', ' Marketing, Search Engine Optimization, Digital Marketing, Strategy, Social Media, User Experience, Customer Analysis, Media Strategy & Planning, User Research, Web Development, Market Analysis, Data Analysis, Market Research, Marketing Management, Marketing Psychology, User Experience Design, Web Development Tools, Algorithms, Brand Management, Communication, Critical Thinking, Influencing, Audit, Customer Relationship Management', ' Algorithms, Theoretical Computer Science, Computer Programming, Data Structures, Problem Solving, Mathematics, Computational Thinking, Computer Programming Tools, Computational Logic, Critical Thinking, Graph Theory, Programming Principles, Mathematical Theory & Analysis, C++ Programming, Algebra, Software Testing', ' Cloud Computing, Google Cloud Platform, Cloud Platforms, Cloud Engineering, Cloud Infrastructure, Computer Networking, Cloud Applications, Other Cloud Platforms and Tools, Cloud Management, Cloud Storage, Network Architecture, Network Model, Network Security, DevOps, Software-Defined Networking, Google App Engine, Kubernetes, Leadership and Management', ' Digital Marketing, Marketing, Search Engine Optimization, Marketing Management, Advertising, Media Strategy & Planning, Persona Research, Web Design, Web Development, Web Development Tools', ' Algebra, Linear Algebra, Mathematics, Python Programming, Critical Thinking, Dimensionality Reduction, Machine Learning Algorithms, Mathematical Theory & Analysis, Machine Learning', ' Cloud Computing, Google Cloud Platform, Cloud Applications, Cloud Platforms, Cloud API, Cloud Infrastructure, Other Cloud Platforms and Tools, Cloud Engineering, Cloud Management, Cloud Storage, Application Development, DevOps, Google App Engine, Software Architecture, Computer Architecture, Machine Learning Software, Kubernetes', ' Google Cloud Platform, Cloud Computing, Cloud Platforms, Cloud Infrastructure, Cloud Management, Security Engineering, System Security, Cloud Applications, Cloud Engineering, Computer Security Models, Other Cloud Platforms and Tools, Cloud Storage, Network Security, Security Software, Security Strategy, Software Security, DevOps, Google App Engine, Kubernetes', ' Data Analysis', ' Digital Marketing, Marketing, Market Analysis, Media Strategy & Planning, Social Media, Data Analysis, Market Research, Advertising, Communication, Strategy, Business Analysis, Data Visualization, Exploratory Data Analysis, Data Management, Brand Management, Marketing Management, Data Analysis Software, Decision Making, Marketing Design, Critical Thinking, Process Analysis, Business Communication, Business Intelligence, Business Transformation, Interactive Data Visualization, Collaboration, Innovation, Planning', ' Data Science, Data Mining, Big Data, Data Analysis, Deep Learning, Machine Learning, Regression, Writing', ' Leadership and Management, Project Management, Strategy and Operations, Organizational Development, Planning, Strategy, Collaboration, Communication, Adaptability, Change Management, Decision Making, Media Strategy & Planning, Process Analysis, Probability & Statistics, Risk Management, Scrum (Software Development), Agile Software Development, Budget Management, Natural Language Processing, Product Management, Prospecting and Qualification, Search Engine Optimization, Product Development, Estimation, Software Engineering, Supply Chain and Logistics', ' Strategy, Strategy and Operations, Leadership and Management, Entrepreneurship, Marketing, Sales, Market Analysis, Business Development, Business Analysis, Business Transformation, Finance, Investment Management, Planning, Product Strategy, Business Design, Research and Design, Risk Management', ' Front-End Web Development, HTML and CSS, Javascript, Web Development', ' Python Programming, Data Analysis, Computer Programming, Machine Learning, Algorithms, Applied Machine Learning, Data Mining, Machine Learning Algorithms, Exploratory Data Analysis, Statistical Programming, Data Management, Extract, Transform, Load, Natural Language Processing, Critical Thinking, Statistical Machine Learning, Graph Theory, Network Analysis, Computer Programming Tools, Human Learning, Data Visualization, Network Model, Data Analysis Software, Regression, Computer Networking, General Statistics, Network Architecture, Plot (Graphics), Visualization (Computer Graphics), Computer Graphics', ' Data Analysis, Databases, Data Analysis Software, Data Management, Data Visualization, SQL, Spreadsheet Software, Business Analysis, Process Analysis, Microsoft Excel, Data Structures, Business Research, Problem Solving, R Programming, Visualization (Computer Graphics), Data Visualization Software, Decision Making, Exploratory Data Analysis, Big Data, Communication, Planning, Statistical Analysis, Tableau Software, Computer Programming, Plot (Graphics), Leadership and Management', ' Resilience', ' Data Analysis, Databases, Python Programming, SQL, Data Management, Data Mining, Data Science, Data Visualization, NoSQL, R Programming, Microsoft Excel', ' Amazon Web Services, Cloud Computing, Continuous Delivery, Continuous Integration, DevOps, Devops Tools, Cloud Applications, Cloud Infrastructure, Cloud Management, Cloud Platforms, Cloud Standards, Software Testing, Leadership and Management, Cloud Storage', ' Algebra, Linear Algebra, Mathematics, Machine Learning, Mathematical Theory & Analysis, Computer Programming, Python Programming, Machine Learning Algorithms, Calculus, Computational Logic, Algorithms, Applied Machine Learning, Differential Equations, Problem Solving, Statistical Analysis, Dimensionality Reduction, Statistical Programming, Regression', ' Computer Security Incident Management, Risk Management, Leadership and Management, Network Security, Cryptography, Cyberattacks, Operations Management', ' Audit, Collaboration, Human Computer Interaction, User Experience, User Experience Design, User Research', ' Leadership and Management, Change Management, People Management, Process Analysis', ' Algorithms, Machine Learning, Machine Learning Algorithms, Applied Machine Learning, Human Learning, Deep Learning, Machine Learning Software, Artificial Neural Networks, Reinforcement Learning, Tensorflow', ' Supply Chain Systems, Supply Chain and Logistics, Planning, Strategy and Operations, Business Process Management, Inventory Management, Leadership and Management, Operations Management, Business Analysis, Continuous Delivery, Data Analysis, Estimation, Forecasting, Spreadsheet Software, Statistical Analysis, Strategy, Warehouse Management, Probability & Statistics, Transportation Operations Management, Material Handling, Shipping and Receiving, Store Management, Operations Research, Performance Management', ' Human Learning, Planning, Strategy, Mergers & Acquisitions', ' Machine Learning, Reinforcement Learning, Algorithms, Human Learning, Machine Learning Algorithms, Applied Machine Learning, Computer Programming, Python Programming, Statistical Machine Learning, Statistical Programming, Artificial Neural Networks, Planning, Decision Making', ' Business Analysis, Data Analysis, Data Architecture, Data Management, Data Visualization, Interactive Data Visualization, Project Management, Tableau Software', ' Data Analysis, SQL, Spreadsheet Software, General Statistics, Databases, Extract, Transform, Load, Microsoft Excel', ' Machine Learning, Artificial Neural Networks, Machine Learning Algorithms, Python Programming, Deep Learning, Machine Learning Software, Statistical Programming, Computer Vision, Computer Programming, Human Learning, Problem Solving', ' Communication, Writing, Business Communication, Professional Development', ' Agile Software Development, Software Engineering, Project Management, Scrum (Software Development), Strategy and Operations, Collaboration, Leadership and Management, Communication, Entrepreneurship, Product Management, Influencing, Problem Solving', ' Security Strategy, Computer Security Incident Management, Python Programming, Cyberattacks, DevOps, Mobile Security, Software Security, System Software, Computer Programming, Leadership and Management', ' R Programming, Data Analysis, Statistical Programming, Statistical Analysis, Computer Programming, Exploratory Data Analysis, General Statistics, Problem Solving, Data Analysis Software, Probability & Statistics, Computer Programming Tools, Critical Thinking, Programming Principles, Statistical Tests, Data Management, Data Structures, Statistical Machine Learning, Basic Descriptive Statistics, Algorithms, Data Model, Human Learning, Machine Learning, Machine Learning Algorithms, Process Analysis, Correlation And Dependence, Data Visualization, Data Visualization Software, Plot (Graphics), Regression, Computer Graphics, Interactive Data Visualization, Applied Machine Learning, Big Data, Computational Thinking, Data Mining, Estimation, Extract, Transform, Load, Mathematics, Probability Distribution, Databases, Machine Learning Software, Communication, Computer Graphic Techniques, Knitr, Natural Language Processing, Visualization (Computer Graphics), Interactive Design, Web Development', ' E-Commerce, Marketing, Search Engine Optimization, Strategy', ' Marketing, Digital Marketing, Advertising, Data Analysis, Marketing Management, Media Strategy & Planning, Business Analysis, Statistical Analysis, Probability & Statistics, Market Analysis, Communication, General Statistics, Experiment, Regression, Statistical Tests, Market Research, Basic Descriptive Statistics, Probability Distribution, Brand Management, Forecasting, Research and Design, Data Visualization, Computer Programming, Data Management, Databases, Python Programming, SQL, Statistical Programming, Storytelling, Tableau Software', ' Apache, Big Data, Data Management, Distributed Computing Architecture, Databases, NoSQL, Extract, Transform, Load, SQL, Cloud Computing, Data Model, Machine Learning, Data Architecture, Database Administration, Database Design, Cloud Applications, IBM Cloud, Kubernetes, Python Programming, Data Warehousing', ' Computer Programming, C Programming Language Family, Data Structures, Algorithms, C++ Programming, Theoretical Computer Science, Programming Principles, Computational Thinking, Problem Solving, Computer Programming Tools, Critical Thinking, Graph Theory', ' Regulations and Compliance, Critical Thinking, Leadership and Management, Organizational Development, Risk Management, Strategy and Operations, Strategy, Employee Relations, Finance, Audit, Business Process Management, Communication, Accounting, Financial Accounting, Operations Management, People Management, Brand Management, Data Management', ' Machine Learning, Machine Learning Algorithms, Applied Machine Learning, Probability & Statistics, Regression, Design and Product, Human Computer Interaction, Communication, Human Factors (Security), Human Learning, User Experience, User Experience Design, Data Analysis, Data Mining, Deep Learning, Project Management, Algorithms, Data Science, Leadership and Management', ' Computer Programming, Python Programming, Programming Principles, Java Programming, Computer Programming Tools, Data Analysis, Data Structures, Problem Solving, Computational Logic, Computational Thinking, Critical Thinking, Data Analysis Software, Data Management, Data Visualization, Exploratory Data Analysis, Software Engineering, Data Science', ' Mergers & Acquisitions, Finance, Accounting, Financial Analysis, Financial Accounting, Banking, Business Analysis, Investment Management, Financial Management, Data Analysis, Market Analysis, Corporate Accouting, Taxes', ' Linux, Leadership and Management, Operating Systems', ' Data Analysis, R Programming, Statistical Programming, Exploratory Data Analysis, Computer Programming, Computer Programming Tools, Data Management, Programming Principles, Data Analysis Software, Data Structures, Statistical Analysis, Critical Thinking, Problem Solving, General Statistics, Process Analysis, Basic Descriptive Statistics, Computational Thinking, Big Data, Data Mining, Data Visualization, Databases, Extract, Transform, Load, Plot (Graphics), Communication, Computer Graphic Techniques, Computer Graphics, Interactive Data Visualization, Knitr, Visualization (Computer Graphics)', ' Communication, Human Learning, Professional Development, Critical Thinking, Leadership Development, Leadership and Management, People Analysis, Decision Making, Emotional Intelligence, People Development, Adaptability, Planning, Negotiation, Influencing, Innovation', ' Digital Marketing, Marketing, Algorithms, Customer Relationship Management, Market Analysis, Strategy, Machine Learning Software, Marketing Management, Network Analysis, Product Strategy', ' Applied Machine Learning, Deep Learning, Machine Learning, Artificial Neural Networks, Machine Learning Algorithms, Algorithms, Computer Programming, Mathematics, Python Programming, Mathematical Theory & Analysis, Tensorflow, Human Learning', ' Business Analysis, Data Analysis, Data Visualization, Spreadsheet Software, Data Model, Decision Making, Microsoft Excel, Process Analysis, Statistical Visualization', ' Human Resources, Leadership and Management, People Development, Strategy and Operations, Leadership Development, Talent Management, Business Psychology, People Analysis, Communication, People Management, Strategy, Human Learning, Human Resources Operations, Business Communication, Collaboration, Influencing, Performance Management, Conflict Management, Employee Relations, Business Analysis, Marketing, Recruitment', ' Artificial Neural Networks, Computer Vision, Exploratory Data Analysis, Machine Learning, Natural Language Processing, Python Programming', ' Leadership and Management, Communication, Project Management, Strategy and Operations, Business Communication, Collaboration, Risk Management, Planning', ' Leadership and Management, Strategy and Operations, Project Management, Planning', ' Security Engineering, System Security, Network Security, Software Security, Computer Security Incident Management, Leadership and Management, Security Software, Risk Management, Strategy and Operations, Algorithms, Cloud Computing, Cryptography, Cyberattacks, Operations Management, Security Strategy, Human Factors (Security), Software-Defined Networking, Cloud Applications, Communication, Financial Accounting', ' Computer Programming, Data Structures, Problem Solving, Python Programming', ' Algorithms, Computational Thinking, Computer Programming, Computer Programming Tools, Critical Thinking, Problem Solving, Programming Principles, Python Programming, Software Engineering, Theoretical Computer Science', ' Entrepreneurship, Strategy, Leadership and Management, Strategy and Operations, Planning, Business Development, Entrepreneurial Finance, Innovation, Finance, Financial Management, Market Research, Business Design, Critical Thinking, Product Strategy, Business Psychology, Decision Making, Financial Accounting, Financial Analysis, Marketing, Accounting, Investment Management, User Research, Collaboration, Network Model', ' Leadership and Management, Communication, Problem Solving, Critical Thinking, Planning, Professional Development, Collaboration, People Management, Conflict Management', ' Sales, Salesforce, Customer Relationship Management, Sales Systems, Account Management, Leadership and Management, Strategy and Operations, Business Process Management, Customer Success, Marketing, Operations Management, Strategy, B2B Sales, Data Visualization Software, Databases, Business Analysis, Data Visualization', ' Leadership and Management, Communication, Business Psychology, Strategy and Operations, Change Management, Conflict Management, Influencing, Organizational Development, Risk Management, Marketing, Negotiation, Sales, Critical Thinking, Decision Making, Entrepreneurship, Human Resources, Probability & Statistics, Business Communication, Employee Relations, Business Process Management, Innovation, People Management, Regulations and Compliance, Storytelling', ' Natural Language Processing', ' Cryptography, Linux', ' Bioinformatics, Computer Programming, Data Analysis, Python Programming, Computational Thinking, General Statistics, Exploratory Data Analysis, R Programming, Data Analysis Software, Algorithms, Computer Programming Tools, Biostatistics, Statistical Analysis, Programming Principles, Probability & Statistics, Statistical Tests, Data Structures, Operating Systems, Research and Design, Big Data, Computational Logic, Problem Solving, Statistical Programming, Experiment, Correlation And Dependence', ' Leadership and Management, Finance, Decision Making, Performance Management, Strategy and Operations, Operations Management, Business Analysis, Financial Analysis, Financial Management, Business Psychology, Accounting, Accounts Payable and Receivable, Financial Accounting, General Accounting, Management Accounting, People Management, People Analysis, Strategy, Business Process Management, Innovation, Leadership Development, Payments, Behavioral Economics, Problem Solving, Compensation, Correlation And Dependence, Insurance Sales, Research and Design, Risk Management', ' User Experience, User Experience Design, Research and Design, Visual Design, Communication, Design and Product, Persona Research, Product Design, User Research, Adaptability, Graphic Design, Collaboration, Leadership and Management, Mobile Development, Planning, Web Design, Audit', ' Leadership and Management, Organizational Development, Strategy, Strategy and Operations, Decision Making, Business Psychology, Change Management, Culture, Business Analysis, Business Process Management', ' Process Analysis, Strategy and Operations, Leadership and Management, Data Analysis, Business Analysis, Business Process Management, Performance Management, Probability & Statistics, Operational Analysis, Organizational Development, Problem Solving, Project Management, General Statistics, Planning, Statistical Analysis, Statistical Tests, Critical Thinking, Basic Descriptive Statistics, Operations Management, Statistical Visualization, Correlation And Dependence, Customer Relationship Management, Probability Distribution, Collaboration, Entrepreneurship, Business Psychology, Communication', ' Data Analysis, Data Management, Microsoft Excel, SQL, Spreadsheet Software', ' Leadership and Management, Strategy and Operations, Strategy, Leadership Development, Decision Making, Entrepreneurship, Organizational Development, Business Analysis, Business Process Management, Change Management, Business Design, Business Development, Business Transformation, Critical Thinking, Culture, Performance Management, Problem Solving, Operations Management, Human Resources, Marketing, Operational Analysis, Sales, Adaptability, Conflict Management, Influencing, Negotiation, Business Psychology, Research and Design', ' Machine Learning, Applied Machine Learning, Google Cloud Platform, Human Learning, Machine Learning Software, Cloud Computing, Machine Learning Algorithms, Deep Learning, Cloud Platforms, Artificial Neural Networks, Feature Engineering, Exploratory Data Analysis, Tensorflow, Python Programming, Data Analysis, Data Visualization, Probability & Statistics, Regression, Statistical Programming, Statistical Visualization, Algorithms, SQL, Cloud API, Apache, Extract, Transform, Load', ' System Security, Cyberattacks, Cryptography, Network Security, Security Engineering', ' Human Resources, Human Resources Operations, Employee Relations, Strategy and Operations, People Management, Leadership and Management, Communication, Strategy, Compensation, People Development, Performance Management, Organizational Development, Planning, Professional Development, Recruitment, Business Psychology, People Analysis, Visualization (Computer Graphics), Benefits, Business Analysis, Culture', ' Taxes, Accounting, Financial Accounting, Finance, Critical Thinking, General Accounting, Regulations and Compliance, Financial Analysis, Corporate Accouting, Generally Accepted Accounting Principles (GAAP), Problem Solving, Benefits', ' Estimation, Mathematics, Algorithms, Probability & Statistics, Mathematical Theory & Analysis, Systems Design, Research and Design, General Statistics, Critical Thinking, Computer Programming, Algebra, Product Design, Correlation And Dependence, Design and Product, Linear Algebra, Problem Solving, Process Analysis, Computer Programming Tools, Data Model, Material Handling, Leadership and Management, Probability Distribution, Product Lifecycle, Regression', ' Leadership and Management, Planning, Communication, Strategy, Strategy and Operations, Business Analysis, Business Development, Business Psychology, Collaboration, Decision Making, Design and Product, Data Analysis, Entrepreneurship, Business Communication, Conflict Management, Emotional Intelligence, People Management, C++ Programming, People Analysis, Critical Thinking, Network Security, Adaptability, Organizational Development, Project Management, Culture', ' Project Management, Strategy and Operations, Leadership and Management, Planning', ' Communication, Critical Thinking, Leadership and Management', ' R Programming, Data Analysis, Computer Programming, Data Visualization, SQL', ' Leadership and Management, Design and Product, Strategy and Operations, Product Management, Entrepreneurship, Product Development, Strategy, Product Design, Marketing, Product Strategy, Research and Design, Market Research, Market Analysis, Product Marketing, Finance, Sales, Investment Management, Planning, Project Management, Financial Analysis, Financial Management, Business Psychology, Budget Management, Entrepreneurial Finance, Software Engineering Tools, Innovation', ' Procurement, Customer Relationship Management, Leadership and Management, Negotiation, Supplier Relationship Management', ' Linux, Network Security, Computer Security Incident Management, Leadership and Management', ' Microsoft Excel, Spreadsheet Software, Data Analysis, Data Science', ' Algebra, Calculus, Mathematical Theory & Analysis, Mathematics, Problem Solving, Computational Logic, Critical Thinking, Differential Equations, Plot (Graphics), Linear Algebra', ' Computer Programming, Other Programming Languages, Matlab, Data Analysis, Algorithms, Theoretical Computer Science, Data Visualization, Mathematics, Plot (Graphics), Visualization (Computer Graphics), Computer Graphics, Statistical Machine Learning, General Statistics, Problem Solving, Programming Principles', ' Human Learning, Communication', ' Cloud Computing, Leadership and Management', ' Communication, Leadership and Management, Planning, Problem Solving, Project Management', ' Business Analysis, Entrepreneurial Finance, Finance, Financial Management, Investment Management, Mergers & Acquisitions, Entrepreneurship, Decision Making, Financial Analysis, Strategy', ' Leadership and Management, Business Communication, Critical Thinking, Problem Solving, Decision Making, Strategy, Business Development, Business Intelligence, Communication, Market Research, Data Analysis, People Analysis, People Management, Process Analysis, Project Management, Strategy and Operations, Data Management', ' Business Communication, Data Analysis, Data Visualization, Data Visualization Software, Tableau Software', ' Finance, Risk Management, Probability & Statistics, Leadership and Management, Mathematics, Investment Management, Securities Sales, Securities Trading, Computer Programming', ' Leadership and Management, Project Management, Planning, Strategy and Operations, Product Management, Agile Software Development, People Management, Strategy, Scrum (Software Development), Performance Management, Risk Management, Business Process Management, Business Communication, Decision Making, Adaptability, Organizational Development, Data Analysis, Estimation, Budget Management', ' Brand Management, Leadership and Management, Marketing, Retail Sales, Strategy, Communication, Digital Marketing, E-Commerce, Marketing Management, Retail Store Operations', ' Python Programming, Algorithms, Computer Programming', ' Cloud Computing, Microsoft Azure, Cloud Management, Cloud Applications, Cloud Infrastructure, Cloud Platforms, Network Security, Cloud Engineering, Cloud Standards, DevOps, Leadership and Management, System Security, Cloud Storage, Machine Learning, Software As A Service, Cloud-Based Integration, Software Security, Data Management, Product Lifecycle, Security Software, Databases', ' Product Design, User Experience, User Research', ' Python Programming, Computer Programming, Data Analysis, Data Management, Data Structures, Database Administration, Database Application, Database Theory, Databases, SQL, Cloud Computing, IBM Cloud', ' Creativity, Critical Thinking, Regulations and Compliance, Problem Solving, Process Analysis, Writing, Decision Making, Business Analysis, Deep Learning, Strategy, Leadership and Management', ' Amazon Web Services, Exploratory Data Analysis', ' Computer Programming, Java Programming, Programming Principles, Algorithms, Problem Solving, Data Structures, Software Engineering, Computer Programming Tools, Critical Thinking, Computational Thinking, Data Analysis, Javascript, Software Testing, Front-End Web Development, HTML and CSS, Web Design, Web Development, Web Development Tools, Computer Graphic Techniques, Software Architecture, Data Model, Cryptography, Data Management, Small Data', ' Leadership and Management, Account Management, Google Cloud Platform, Cloud Management, System Security, Cloud Applications, Cloud Platforms, Security Engineering, Operations Management, Software Security, Network Security, Cloud Computing, Data Management, Security Strategy, Cloud Infrastructure, Organizational Development, Other Cloud Platforms and Tools, Change Management, Cloud-Based Integration, Database Administration, Collaboration, Software As A Service, Strategy and Operations, Computer Security Incident Management, Planning, Strategy, Security Software, Project Management, Accounting', ' Agile Software Development, Scrum (Software Development), Project Management, Software Engineering, Continuous Delivery, Product Development, Continuous Integration, Leadership and Management, Product Management, Collaboration, Software Testing, Strategy, Application Development, DevOps, Product Lifecycle, Planning, Software Engineering Tools, System Software, Devops Tools, Performance Management, Risk Management', ' Digital Marketing, Marketing, Writing, Strategy', ' HTML and CSS, React (web framework), Web Development, Front-End Web Development, Web Design, Web Development Tools', ' Leadership and Management, Organizational Development, Strategy and Operations, General Statistics, Probability & Statistics, Operations Management, Process Analysis, Statistical Analysis, Business Analysis, Data Analysis, Project Management, Business Process Management, Performance Management, Basic Descriptive Statistics, Entrepreneurship, Statistical Tests, Problem Solving, Probability Distribution, Statistical Visualization, Strategy, Decision Making, Leadership Development, Planning, Correlation And Dependence, People Management, Communication, Customer Analysis, Marketing, Sales, Conflict Management, Customer Success, Experiment', ' Cryptography, Security Software, Cyberattacks, Leadership and Management', ' Financial Management, Finance, Financial Analysis, Financial Accounting, Leadership and Management, Accounting, Investment Management, Risk Management, Cash Management, Accounts Payable and Receivable, General Accounting, Management Accounting, Account Management, Corporate Accouting, Generally Accepted Accounting Principles (GAAP), Cost Accounting, Decision Making, Market Analysis, Securities Trading, Strategy, Correlation And Dependence, Taxes, Mergers & Acquisitions', ' Leadership and Management', ' Machine Learning, Calculus, Differential Equations, Mathematics, Machine Learning Algorithms, Regression, Algebra, Algorithms, Artificial Neural Networks', ' Creativity, Planning', ' Python Programming, Computer Programming, Data Analysis, Data Science', ' Creativity, Storytelling, Writing', ' Finance, Investment Management, Leadership and Management, Financial Analysis, Risk Management, Financial Management, Market Analysis, Strategy, Decision Making, Behavioral Economics, Strategy and Operations, Correlation And Dependence, Market Research, Performance Management, Probability & Statistics, Securities Trading, Mathematical Theory & Analysis, Banking, Statistical Analysis', ' Probability & Statistics, Bayesian Statistics, Probability Distribution, General Statistics, Statistical Analysis, R Programming, Statistical Programming, Mathematics, Regression, Data Analysis, Estimation, Statistical Tests, Machine Learning, Markov Model, Forecasting', ' Finance, Financial Accounting, Accounts Payable and Receivable, Accounting, General Accounting, Financial Analysis, Leadership and Management, Cost Accounting, Account Management, Generally Accepted Accounting Principles (GAAP), Business Analysis, Financial Management, Risk Management, Operational Analysis, Data Analysis, Planning', ' Leadership and Management, Sales, Communication, Emotional Intelligence, Strategy, Business Analysis, Customer Relationship Management, Prospecting and Qualification, Sales Systems, Business Communication, Business Development, Business Intelligence, Data Management, Salesforce', ' Brand Management, Customer Analysis, Market Analysis, Marketing, Marketing Design, Product Marketing, Product Strategy, Strategy, Digital Marketing, Leadership and Management, Communication', ' Human Resources, People Analysis, Business Analysis, Employee Relations, Human Resources Operations, Leadership and Management, People Development, Communication, Data Visualization, Influencing, Storytelling, Data Analysis', ' Creativity, Social Media, Operations Management, Writing', ' Creativity, Writing', ' Cloud Computing, Cyberattacks, Data Management, Human Computer Interaction, Network Security, Operating Systems, System Security', ' Accounting, Finance, Financial Accounting, General Accounting, Accounts Payable and Receivable, Business Analysis, Financial Analysis, Operational Analysis, Planning, Calculus', ' C Programming Language Family, Computer Programming, Programming Principles, Algorithms, Data Structures, C++ Programming, Computational Logic, Computer Programming Tools, Computational Thinking, Critical Thinking, Mathematics, Problem Solving, Graph Theory, Theoretical Computer Science', ' Probability & Statistics, Statistical Analysis, Business Analysis, General Statistics, Data Analysis, Spreadsheet Software, Basic Descriptive Statistics, Microsoft Excel, Statistical Tests, Probability Distribution, Business Intelligence, Data Analysis Software, Regression, Data Management, Critical Thinking, Data Visualization, Interactive Data Visualization, Plot (Graphics), Statistical Visualization', ' Computer Programming, Java Programming, Algorithms, Data Structures, Problem Solving, Programming Principles, Computational Thinking, Computer Programming Tools, Critical Thinking, Software Engineering, Computational Logic, Data Analysis, Visualization (Computer Graphics), Software Testing, Computer Graphics, Cryptography, Data Management', ' Data Analysis, Probability & Statistics, Business Analysis, Process Analysis, Statistical Analysis, General Statistics, Operational Analysis, Business Process Management, Organizational Development, Performance Management, Problem Solving, Project Management, Statistical Tests, Statistical Visualization, Strategy and Operations, Decision Making, Leadership and Management, Mathematics, Operations Management, Supply Chain and Logistics, Entrepreneurship, Planning, Probability Distribution, Data Visualization, Experiment, Interactive Data Visualization, Interactive Design, Design and Product', ' Data Management, Databases, Microsoft Azure, Cloud Computing, SQL, Big Data, Data Analysis, Database Application, Data Architecture, Data Warehousing, Cloud Storage, Data Structures, Data Visualization, Extract, Transform, Load, Leadership and Management, NoSQL, Data Analysis Software, Data Visualization Software, Database Administration, Cloud Infrastructure, Cloud Management, Database Theory, PostgreSQL', ' Planning, User Experience, User Research', ' SQL, Tableau Software', ' Marketing, Strategy, Strategy and Operations, Customer Analysis, Sales, Product Strategy, Business Analysis, Leadership and Management, Market Analysis, Product Marketing, Design and Product, Product Management, Entrepreneurship, Market Research, Accounting, Game Theory, B2B Sales, Cost Accounting, Data Analysis, Product Lifecycle, Retail Sales', ' Machine Learning, Python Programming, Statistical Programming, Data Management, Machine Learning Algorithms, Deep Learning, Process Analysis, Data Analysis, Apache, Human Learning, Machine Learning Software, Applied Machine Learning, Extract, Transform, Load, Artificial Neural Networks, Feature Engineering, Application Development, Data Architecture, Probability & Statistics, Cloud Computing, Statistical Machine Learning, General Statistics, IBM Cloud, SQL, Computer Programming, Tensorflow', ' Emotional Intelligence', ' Digital Marketing, Marketing, Marketing Management, Media Strategy & Planning, Communication, Data Analysis, Writing, Strategy', ' Software Architecture, Software Engineering, Systems Design, Programming Principles, Computer Programming, System Software, Application Development, Computer Architecture, Design and Product, Java Programming, Product Design, Software Engineering Tools, Problem Solving, Computational Thinking, Project Management, Leadership and Management, Process Analysis', ' Database Design, Databases, HTML and CSS, Javascript, SQL, Web Development', ' Strategy, Marketing', ' Human Learning', ' Leadership and Management, Planning, Strategy, Critical Thinking, Operations Management, People Management, Strategy and Operations, Business Communication, Collaboration, Conflict Management, Organizational Development', ' Critical Thinking, Data Analysis, Data Visualization, Microsoft Excel, Spreadsheet Software, Basic Descriptive Statistics, Data Analysis Software, Databases, General Accounting, Visual Design', ' Computer Programming, Computer Science, Problem Solving', ' Machine Learning, Microsoft Azure, Applied Machine Learning, Machine Learning Algorithms, Machine Learning Software, Cloud Computing, Python Programming, Human Learning, Algorithms, Big Data, Cloud Applications, Data Analysis, Regression, Cloud-Based Integration, Extract, Transform, Load, Training, Exploratory Data Analysis, Cloud Platforms, Data Management, Deep Learning, Experiment', ' Project Management, Process Analysis, Collaboration, Organizational Development, Communication, Decision Making, Strategy, Product Management, Business Communication, Adaptability, Agile Software Development, Change Management, Leadership and Management, People Analysis, Scrum (Software Development), Strategy and Operations, Continuous Integration, Risk Management, Spreadsheet Software, Professional Development, Programming Principles, Application Development', ' Computational Logic, Computer Programming, Critical Thinking, Data Analysis, Data Management, Data Structures, Problem Solving, Programming Principles, Python Programming, Software Engineering', ' Accounting, Finance, Financial Accounting, Financial Analysis, Mathematics, Problem Solving, Decision Making, Estimation, Investment Management, Management Accounting', ' Data Analysis, General Statistics, Probability & Statistics, Statistical Analysis, Statistical Tests, R Programming, Regression, Biostatistics, Statistical Programming, Basic Descriptive Statistics, Exploratory Data Analysis, Critical Thinking, Correlation And Dependence, Probability Distribution, Epidemiology', ' Algorithms, Machine Learning, Machine Learning Algorithms, Python Programming, Applied Machine Learning, Statistical Machine Learning, Data Analysis, Regression, Human Learning, Statistical Programming, Computer Programming', ' Leadership and Management, Product Strategy, Product Management, Strategy, Marketing, Strategy and Operations, Product Marketing, Business Process Management, Customer Success, Market Analysis', ' Organizational Development, Leadership and Management, Planning', ' Data Engineering, Data Management, Extract, Transform, Load, Databases, Network Security, Big Data, Data Warehousing, Leadership and Management, SQL, Data Science, NoSQL', ' Design and Product, Microsoft Excel, Software Engineering, Leadership and Management, Business Analysis, Business Design, Data Analysis, Marketing Design, Creativity, Persona Research, Customer Analysis', ' Finance, Financial Analysis, Accounting, Investment Management, Cost Accounting, Leadership and Management, Financial Accounting, Financial Management, Strategy and Operations', ' Investment Management, Finance, Python Programming, Data Analysis, Computer Programming, Machine Learning, Statistical Programming, Applied Machine Learning, Financial Analysis, Machine Learning Algorithms, Risk Management, Statistical Machine Learning, Data Analysis Software, Data Management, Data Mining, Natural Language Processing, Human Learning, Big Data, Computer Science', ' Network Security, Security Engineering, System Security, Computer Networking, Computer Security Incident Management, Software Security, Computer Security Models, Mobile Security, Cyberattacks, Security Software, Internet Of Things, Network Architecture, Cloud Computing, Kubernetes, Regulations and Compliance', ' Human Computer Interaction, Human Learning, Machine Learning, Applied Machine Learning, Decision Making, Machine Learning Algorithms, Critical Thinking, Leadership and Management, Process Analysis, Regulations and Compliance', ' Computational Logic, Computer Architecture, Computer Programming, Hardware Design, Theoretical Computer Science, Computer Programming Tools, Critical Thinking, Problem Solving, Systems Design', ' Brand Management, Marketing, Leadership and Management, Advertising, Communication, Strategy, Creativity, Strategy and Operations, User Experience, Customer Analysis, Design and Product, Media Strategy & Planning, Customer Relationship Management, Customer Success, Customer Support, Social Media, Storytelling, User Experience Design, Visual Design, Graphic Design, Journalism', ' Human Resources, Leadership and Management, People Management, Conflict Management, Decision Making, Human Resources Operations, People Analysis, Performance Management, Recruitment, Business Analysis, Employee Relations, Leadership Development, Organizational Development, People Development', ' Mergers & Acquisitions, Recruitment', ' Machine Learning, Deep Learning, Machine Learning Algorithms, Applied Machine Learning, Artificial Neural Networks, Computer Vision, Human Learning, Tensorflow, Python Programming, Machine Learning Software', ' Exploratory Data Analysis', ' User Experience, User Research, Web Design, Web Development Tools', ' Mathematics, Problem Solving, Mathematical Theory & Analysis, Algorithms, Critical Thinking, Graph Theory, Combinatorics, Computational Thinking, Probability & Statistics, Computer Programming, Python Programming, Computational Logic, General Statistics, Theoretical Computer Science, Probability Distribution, Strategy, Creativity, Experiment, Calculus, Game Theory, Visualization (Computer Graphics), Cryptography, Sales', ' Algorithms, Computer Programming, Problem Solving, Python Programming', ' Epidemiology, Data Analysis, Data Visualization, Problem Solving, Estimation', ' Algorithms, Theoretical Computer Science, Data Structures, Computer Programming, Graph Theory, Problem Solving, Computational Logic, Computational Thinking, Mathematical Theory & Analysis, Mathematics, Applied Mathematics, Python Programming', ' User Experience, Social Media, User Research, Web Design', ' Computer Programming, Python Programming, Computational Logic, Problem Solving, Programming Principles, Computer Programming Tools, Critical Thinking, Computational Thinking, Algorithms, Process Analysis', ' Computer Graphics, Computer Graphic Techniques, Design and Product, Feature Engineering, Research and Design, Software Architecture, Software Engineering, User Experience Design, Visualization (Computer Graphics)', ' DevOps, Software Engineering, Strategy and Operations, Decision Making, Leadership and Management, Operational Analysis, Performance Management, User Experience, Problem Solving, Critical Thinking', ' Machine Learning, Data Analysis, Data Mining, Machine Learning Algorithms, Natural Language Processing, Probability & Statistics, Data Visualization, Bayesian Statistics, General Statistics, Probability Distribution, Statistical Programming, Algorithms, Mathematical Theory & Analysis, Python Programming, Data Visualization Software', ' Spreadsheet Software, Computer Programming, Problem Solving, Microsoft Excel, Programming Principles, Data Analysis, Critical Thinking, Algorithms, Computer Programming Tools, Computational Logic, Computational Thinking', ' Business Analysis, Spreadsheet Software, Data Analysis, Data Analysis Software, Data Visualization, Microsoft Excel, Data Management, Exploratory Data Analysis, Statistical Visualization, Data Model, Data Structures, Data Visualization Software, Database Design, Interactive Design, Plot (Graphics), Visual Design, Big Data, Power BI', ' Mathematics, Linear Algebra, Algebra, Geometry, Computer Programming, Mathematical Theory & Analysis, Computer Programming Tools, Matlab, Python Programming, Algorithms, Critical Thinking, Problem Solving, Differential Equations, Graph Theory, Spatial Analysis, Planning, Supply Chain and Logistics', ' Python Programming, Computer Programming, Data Analysis, Data Visualization', ' Finance, Investment Management, Financial Analysis, Securities Trading, Accounting, Algorithms, Strategy, Financial Accounting, Market Analysis, Business Analysis, Statistical Analysis, Risk Management, Strategy and Operations, Account Management, Behavioral Economics, Decision Making, General Accounting, Market Research, Performance Management, Correlation And Dependence, Statistical Tests', ' Human Learning, Machine Learning, Deep Learning, Python Programming, Artificial Neural Networks, Machine Learning Algorithms, Applied Machine Learning, Algorithms, Regression, Statistical Machine Learning', ' Writing, Communication', ' Mathematical Theory & Analysis, Mathematics, Problem Solving, Algebra, Calculus, Computer Networking, Applied Mathematics, Critical Thinking, Theoretical Computer Science, Computer Programming, Javascript', ' Communication, Leadership and Management', ' Security Engineering, Cyberattacks, Network Security, System Security, Security Strategy, Computer Networking, Security Software, Computer Security Models, Network Architecture, Strategy, Cryptography, Problem Solving, Software Security, Algorithms, Computer Security Incident Management, Critical Thinking, Computational Thinking, BlockChain, Cloud Computing, Mobile Security', ' Business Analysis, Business Development, Business Psychology, Communication, Decision Making, Design and Product, Entrepreneurship, Leadership and Management, Strategy, Strategy and Operations, Business Design, Critical Thinking, Data Analysis, Resilience, Collaboration, Creativity, C++ Programming, Conflict Management, Microsoft Excel, People Analysis, Adaptability, HR Tech, User Experience, Emotional Intelligence, User Experience Design', ' Finance, Investment Management, Financial Analysis, Leadership and Management, Risk Management, Behavioral Economics, Probability & Statistics, Market Analysis, Mathematics, Statistical Tests, Business Psychology, Mathematical Theory & Analysis, Probability Distribution', ' Communication', ' Artificial Neural Networks, Deep Learning, Natural Language Processing, Machine Learning, Python Programming, Statistical Programming', ' General Statistics, Probability & Statistics, Statistical Analysis, Data Analysis, Statistical Tests, Basic Descriptive Statistics, Probability Distribution, Python Programming, Statistical Visualization, Statistical Programming, Mathematics, Plot (Graphics), Regression, Estimation, Correlation And Dependence, Data Visualization, Exploratory Data Analysis, Computer Programming, Bayesian Statistics', ' Google Cloud Platform, Cloud Computing, SQL, Databases, Data Analysis, Big Data, Cloud Platforms, Data Management, Exploratory Data Analysis, Cloud Storage, Data Analysis Software, Extract, Transform, Load, Data Model, Machine Learning, Applied Machine Learning, Human Learning, Data Visualization, Machine Learning Software, Database Theory', ' Python Programming, Machine Learning, Computer Programming, Artificial Neural Networks, C Programming Language Family, C++ Programming, Algorithms, Data Science, Linear Algebra', ' Critical Thinking, Machine Learning', ' Leadership and Management, Strategy, Strategy and Operations, Business Process Management, Planning, Project Management, Business Analysis, Business Transformation, Cloud-Based Integration, Supply Chain and Logistics', ' Cloud Computing, Computer Architecture, Operating Systems, System Security', ' Linux', ' Leadership and Management, Finance, Financial Analysis, Taxes, Problem Solving', ' Computer Programming, Computer Programming Tools, Linux', ' Software Engineering, Agile Software Development, Design and Product, Problem Solving, Software Architecture, Software Testing, Leadership and Management, Project Management, Scrum (Software Development), Software Engineering Tools, Continuous Delivery, Organizational Development, Product Development, User Experience, Application Development, Planning, Collaboration, Estimation, Full-Stack Web Development, Computer Programming Tools, Computer Programming, Search Engine Optimization, Conflict Management', ' Design and Product, User Experience Design, User Experience', ' Health', ' Accounting, Audit, Critical Thinking, Financial Analysis, Regulations and Compliance, Risk Management, Financial Accounting, General Accounting, Leadership and Management, Finance', ' Writing, Business Communication, Professional Development', ' Machine Learning, Reinforcement Learning, Machine Learning Algorithms, Python Programming, Statistical Programming, Computer Programming, Decision Making', ' Security Engineering, System Security, Risk Management, Computer Security Incident Management, Leadership and Management, Security Strategy, Network Security, Strategy, Cyberattacks, Strategy and Operations, Computer Security Models, Software Security, Security Software, Computer Networking, Planning, Business Analysis, Network Architecture, Networking Hardware, Organizational Development, Operations Management, Cryptography, Network Model, Project Management, Software As A Service, Cloud Computing', ' Machine Learning, Applied Machine Learning, Deep Learning, Tensorflow, Computer Programming, Javascript, Artificial Neural Networks, Python Programming, Data Model, Machine Learning Software, Mobile Development, Web Development, Computer Vision, Mobile Development Tools, Extract, Transform, Load, Software Framework, Visualization (Computer Graphics), iOS Development', ' Operating Systems, Linux, System Software, Cloud Computing, Computer Networking, DevOps, Network Security, Cloud Platforms, Computer Programming Tools, Software Engineering Tools, System Security, Application Development, Cloud Applications, Devops Tools, Security Engineering, System Programming, Information Technology', ' Planning, Writing', ' Mergers & Acquisitions', ' Writing', ' Marketing, Social Media, Communication, Digital Marketing, Media Strategy & Planning, Market Research, Strategy, Marketing Management, Brand Management, Advertising, Customer Analysis, Entrepreneurship, Decision Making, Market Analysis, Research and Design, People Management, Persona Research', ' Python Programming, Computer Programming, C Programming Language Family, Algorithms, Computational Logic, Critical Thinking, Problem Solving, Process Analysis, Programming Principles, Computer Programming Tools, Data Visualization, Theoretical Computer Science, Computational Thinking, Software Testing, Writing, Software Engineering, User Experience', ' Collaboration, Communication, Leadership Development, Leadership and Management, Culture, Emotional Intelligence', ' Continuous Delivery, Inventory Management, Leadership and Management, Material Handling, Planning, Shipping and Receiving, Store Management, Strategy and Operations, Supply Chain Systems, Supply Chain and Logistics, Transportation Operations Management, Warehouse Management', ' Bioinformatics, Probability & Statistics, Mathematics, Differential Equations, Network Analysis, Graph Theory, Matlab', ' E-Commerce, Marketing, Strategy', ' Customer Relationship Management, Sales, Databases, Sales Systems, Salesforce, B2B Sales, Customer Success, Leadership and Management, Marketing, Operations Management', ' Research and Design, Critical Thinking, Organizational Development, People Analysis, Business Analysis, Decision Making, Data Analysis, Emotional Intelligence, Leadership and Management, People Development, Strategy and Operations, Business Psychology, Communication, Data Management, Human Resources, Leadership Development, Problem Solving, Strategy, User Experience Design, Change Management, General Statistics, Human Computer Interaction, Innovation, Probability & Statistics, Statistical Analysis, User Experience, Creativity, Market Research', ' Artificial Neural Networks, Deep Learning, Human Learning, Machine Learning, Algorithms, Applied Machine Learning, Machine Learning Algorithms, Media Strategy & Planning, Natural Language Processing, Strategy and Operations, Leadership and Management', ' Design and Product, Data Analysis, Software Engineering, Microsoft Excel, Business Analysis, Computer Programming, SQL', ' Human Learning, Planning, Entrepreneurship', ' Leadership and Management, Operations Management', ' Internet Of Things, Computer Networking, Network Security, Security Engineering, System Security, Market Research, Network Analysis, Operations Management, Software Security, Software-Defined Networking', ' Cloud Computing, Data Management, Leadership and Management, Salesforce', ' Customer Relationship Management, Leadership and Management, Problem Solving', ' Entrepreneurship, Leadership and Management, Strategy, Professional Development, Strategy and Operations, Change Management, Collaboration, Communication, Creativity, Innovation, Organizational Development, Planning', ' Planning', ' Problem Solving', ' Market Analysis, Finance, Business Analysis, Financial Analysis, Data Analysis, Behavioral Economics, Decision Making, Econometrics, Probability & Statistics, Accounting, Banking, General Statistics, Statistical Analysis, Leadership and Management, Basic Descriptive Statistics, Exploratory Data Analysis, Financial Accounting, Financial Management, Strategy and Operations, Investment Management, Market Research, Probability Distribution, Regulations and Compliance, Marketing, Risk Management, Securities Trading, Statistical Tests, Correlation And Dependence, Securities Sales, Strategy, Taxes, Game Theory, Regression, Microsoft Excel', ' Operating Systems, Computer Networking, IBM Cloud', ' Computer Programming, Programming Principles, Python Programming, Computer Programming Tools, Data Management, Data Structures, Cloud Applications, Databases, Software Engineering Tools, SQL, Exploratory Data Analysis, Operating Systems, Amazon Web Services, Data Analysis, Extract, Transform, Load, Cloud Engineering, Cloud Platforms, DevOps, Machine Learning, Problem Solving, Small Data, Big Data, Computational Logic, Linux, Database Application', ' Communication, Marketing, Social Media, Advertising, Marketing Management, Strategy, Media Strategy & Planning, Market Analysis, Strategy and Operations, Leadership and Management, Product Marketing, Brand Management, Digital Marketing, E-Commerce, Decision Making, Influencing, Public Relations, Planning, User Experience, Budget Management, Business Analysis, Entrepreneurship, Statistical Analysis, Emotional Intelligence', ' General Statistics, Probability & Statistics, Survey Creation, Research and Design, Data Analysis, Big Data, People Analysis, Statistical Analysis, Process Analysis, Data Management, Market Research, Social Media, Critical Thinking, Decision Making, Estimation, Market Analysis, Scientific Visualization, Communication, Human Learning', ' Probability & Statistics, Experiment, Statistical Tests, Human Computer Interaction, User Experience, R Programming, Statistical Programming, User Experience Design, Data Analysis, General Statistics, Statistical Analysis, User Research, Visual Design, Probability Distribution, Regression, Collaboration', ' Critical Thinking, Creativity', ' Data Analysis, Business Analysis, Data Visualization, Decision Making, Problem Solving, Process Analysis, Data Management, Exploratory Data Analysis, SQL, Visualization (Computer Graphics)', ' Leadership and Management, Marketing, Strategy, Communication, Customer Relationship Management, Organizational Development, Strategy and Operations, Brand Management, Business Process Management, Culture']\n"
          ]
        }
      ]
    },
    {
      "cell_type": "code",
      "source": [
        "#details about organisation\n",
        "orgs=pd.Series(coursera['Organization']).drop_duplicates().tolist()\n",
        "print(orgs)"
      ],
      "metadata": {
        "colab": {
          "base_uri": "https://localhost:8080/"
        },
        "id": "Oauoo5Fn6a9-",
        "outputId": "deece754-a43e-4de7-f899-b2b6d729787f"
      },
      "execution_count": 6,
      "outputs": [
        {
          "output_type": "stream",
          "name": "stdout",
          "text": [
            "['Google', 'IBM', 'Multiple educators', 'University of Virginia Darden School Foundation', 'DeepLearning.AI', 'Vanderbilt University', 'Meta', 'Microsoft', 'University of Pennsylvania', 'University of Michigan', 'Stanford University', 'Intuit', 'Google - Spectrum Sharing', 'Yale University', 'HRCI', 'Macquarie University', 'University of Alberta', 'Google Cloud', 'SkillUp EdTech', 'SAP', 'University of Virginia', 'California Institute of the Arts', 'Arizona State University', 'Amazon Web Services', 'PwC', 'University of California, Davis', 'IIMA - IIM Ahmedabad', 'Columbia University', 'University of California San Diego', 'University of Illinois at Urbana-Champaign', 'Johns Hopkins University', 'Imperial College London', 'ISC2', 'Rutgers the State University of New Jersey', 'Tableau Learning Partner', 'Georgia Institute of Technology', 'Duke University', 'University of California, Irvine', 'Measure What Matters', 'Salesforce', 'University System of Georgia', 'University of Minnesota', 'University of Colorado Boulder', 'MedCerts', 'University of Maryland, College Park', 'IESE Business School', 'New York Institute of Finance', 'Wesleyan University', 'The University of Sydney', 'Rice University', 'Università Bocconi', 'Emory University', 'The Museum of Modern Art', 'Northwestern University', 'IBM ', 'University of Toronto', 'Berklee', 'LearnQuest', 'University of Amsterdam', 'University of London', 'University of Geneva', 'University of California, Santa Cruz', 'Michigan State University', 'CompTIA', 'Universidad Nacional Autónoma de México', 'Goodwill Industries International', 'INSEAD', 'ESSEC Business School', 'SAS', 'Deep Teaching Solutions', 'The University of Chicago', 'Atlassian', 'Interactive Brokers', 'University of Colorado System', 'Yonsei University', 'Copenhagen Business School', 'Codio', 'Advancing Women in Tech', 'EDHEC Business School', 'EC-Council', 'Lund University', 'Hebrew University of Jerusalem', 'IE Business School', 'University of Cape Town', 'University at Buffalo', 'Universitat Autònoma de Barcelona', 'University of Washington', 'Autodesk', 'Indian School of Business', 'The Hong Kong University of Science and Technology', 'The University of Edinburgh', 'Keller Williams', 'Institute for the Future', 'Parsons School of Design, The New School', 'Erasmus University Rotterdam', 'Automatic Data Processing, Inc. (ADP)', 'Novartis', 'Universiteit Leiden', 'Board Infinity ', 'University of Manchester   ', 'Pontificia Universidad Católica de Chile', 'HubSpot Academy', 'HEC Paris', 'Knowledge Accelerators', 'University of Houston', 'Eindhoven University of Technology', 'UiPath', 'École Polytechnique Fédérale de Lausanne', 'Peking University', 'Coursera Project Network', 'SoFi', 'Red Hat', 'West Virginia University', 'Politecnico di Milano', 'EIT Digital ', 'Case Western Reserve University', 'New York University', 'PwC India', 'Dartmouth College', 'CVS Health', 'Akamai Technologies, Inc.', 'ISAE-SUPAERO', 'University of Leeds', 'Technical University of Denmark (DTU)', 'Queen Mary University of London', 'École Polytechnique', 'Cisco Learning and Certifications', 'Fractal Analytics', 'Northeastern University ', 'University of Arizona', 'American Psychological Association', 'Aptly', 'Databricks', 'Digital Marketing Institute', 'University of Copenhagen', 'Icahn School of Medicine at Mount Sinai', 'Infosec', 'The State University of New York', 'The George Washington University', 'University of Pittsburgh', 'Alberta Machine Intelligence Institute', 'The University of North Carolina at Chapel Hill', 'MathWorks', 'Starweaver', 'Nanyang Technological University, Singapore', 'JetBrains', 'Sciences Po', 'Tally Education', 'Siemens', 'UNSW Sydney (The University of New South Wales)', 'Qualcomm Academy', 'Shanghai Jiao Tong University', 'The University of Hong Kong', 'National Academy of Sports Medicine', 'American Museum of Natural History', 'Ludwig-Maximilians-Universität München (LMU)', 'Korea Advanced Institute of Science and Technology(KAIST)', 'University of Florida']\n"
          ]
        }
      ]
    },
    {
      "cell_type": "code",
      "source": [
        "#gathering the details of organisation\n",
        "Org=coursera.groupby(\"Organization\")\n",
        "print(Org)\n",
        "#GOOGLE\n",
        "Google=Org.get_group(\"Google\")\n",
        "print(Google)\n",
        "count_1=0\n",
        "for i in Google['Organization']:\n",
        "  count_1=count_1+1\n",
        "print(\"Count of cousres taken from Google=\",count_1)\n",
        "\n"
      ],
      "metadata": {
        "colab": {
          "base_uri": "https://localhost:8080/"
        },
        "id": "wuT9BhsbnTjZ",
        "outputId": "b180c428-a099-49ee-cd79-63496492fcd0"
      },
      "execution_count": 14,
      "outputs": [
        {
          "output_type": "stream",
          "name": "stdout",
          "text": [
            "<pandas.core.groupby.generic.DataFrameGroupBy object at 0x78c93d53a8f0>\n",
            "     Unnamed: 0                                              Title  \\\n",
            "0             0                               Google Cybersecurity   \n",
            "1             1                              Google Data Analytics   \n",
            "2             2                         Google Project Management:   \n",
            "4             4              Google Digital Marketing & E-commerce   \n",
            "6             6                                  Google IT Support   \n",
            "..          ...                                                ...   \n",
            "853         853  Fundamentos del marketing digital y comercio e...   \n",
            "857         857                         Google Data Analytics (DE)   \n",
            "878         878                     تصميم تجربة المستخدم من Google   \n",
            "886         886                             1. 基礎知識：データはあらゆるところにある   \n",
            "973         973  Aspectos básicos del diseño de la experiencia ...   \n",
            "\n",
            "    Organization                                             Skills  Ratings  \\\n",
            "0         Google   Network Security, Python Programming, Linux, ...      4.8   \n",
            "1         Google   Data Analysis, R Programming, SQL, Business C...      4.8   \n",
            "2         Google   Project Management, Strategy and Operations, ...      4.8   \n",
            "4         Google   Digital Marketing, Marketing, Marketing Manag...      4.8   \n",
            "6         Google   Computer Networking, Network Architecture, Ne...      4.8   \n",
            "..           ...                                                ...      ...   \n",
            "853       Google                    E-Commerce, Marketing, Strategy      4.9   \n",
            "857       Google   Design and Product, Data Analysis, Software E...      4.4   \n",
            "878       Google                                    Problem Solving      4.7   \n",
            "886       Google   Data Analysis, Business Analysis, Data Visual...      4.7   \n",
            "973       Google                                                NaN      NaN   \n",
            "\n",
            "         Review counts                                           Metadata  \n",
            "0     4.8(20K reviews)  Beginner · Professional Certificate · 3 - 6 Mo...  \n",
            "1    4.8(137K reviews)  Beginner · Professional Certificate · 3 - 6 Mo...  \n",
            "2    4.8(100K reviews)  Beginner · Professional Certificate · 3 - 6 Mo...  \n",
            "4     4.8(23K reviews)  Beginner · Professional Certificate · 3 - 6 Mo...  \n",
            "6    4.8(183K reviews)  Beginner · Professional Certificate · 3 - 6 Mo...  \n",
            "..                 ...                                                ...  \n",
            "853   4.9(900 reviews)                    Beginner · Course · 1 - 4 Weeks  \n",
            "857    4.4(28 reviews)  Beginner · Professional Certificate · 3 - 6 Mo...  \n",
            "878    4.7(81 reviews)  Beginner · Professional Certificate · 3 - 6 Mo...  \n",
            "886   4.7(207 reviews)                   Beginner · Course · 1 - 3 Months  \n",
            "973                NaN                    Beginner · Course · 1 - 4 Weeks  \n",
            "\n",
            "[92 rows x 7 columns]\n",
            "Count of cousres taken from Google= 92\n"
          ]
        }
      ]
    },
    {
      "cell_type": "code",
      "source": [
        "#IBM\n",
        "Ibm=Org.get_group(\"IBM\")\n",
        "print(Ibm)\n",
        "count_2=0\n",
        "for i in Ibm['Organization']:\n",
        "  count_2=count_2+1\n",
        "print(\"Count of cousres taken from IBM=\",count_2)\n"
      ],
      "metadata": {
        "id": "KP5tlyC8pUOL",
        "colab": {
          "base_uri": "https://localhost:8080/"
        },
        "outputId": "3c47fa4c-f6e6-4d04-dc95-20db9d4177f5"
      },
      "execution_count": 15,
      "outputs": [
        {
          "output_type": "stream",
          "name": "stdout",
          "text": [
            "     Unnamed: 0                                              Title  \\\n",
            "3             3                                   IBM Data Science   \n",
            "5             5                                   IBM Data Analyst   \n",
            "9             9                IBM DevOps and Software Engineering   \n",
            "10           10                                     IBM Applied AI   \n",
            "11           11                  IBM Full Stack Software Developer   \n",
            "..          ...                                                ...   \n",
            "939         939                Python Project for Data Engineering   \n",
            "958         958       Introduction to Relational Databases (RDBMS)   \n",
            "965         965                  IBM Data Analyst Capstone Project   \n",
            "977         977  ETL and Data Pipelines with Shell, Airflow and...   \n",
            "979         979  Getting Started with Front-End and Web Develop...   \n",
            "\n",
            "    Organization                                             Skills  Ratings  \\\n",
            "3            IBM   Python Programming, Data Science, Machine Lea...      4.6   \n",
            "5            IBM   Python Programming, Microsoft Excel, Data Vis...      4.6   \n",
            "9            IBM   DevOps, Software Engineering, Cloud Computing...      4.6   \n",
            "10           IBM   Machine Learning, Deep Learning, Machine Lear...      4.6   \n",
            "11           IBM   Cloud Computing, Python Programming, Cloud Ap...      4.6   \n",
            "..           ...                                                ...      ...   \n",
            "939          IBM                                                NaN      NaN   \n",
            "958          IBM                                                NaN      4.6   \n",
            "965          IBM                                                NaN      4.6   \n",
            "977          IBM                                                NaN      NaN   \n",
            "979          IBM                                                NaN      NaN   \n",
            "\n",
            "         Review counts                                           Metadata  \n",
            "3    4.6(120K reviews)  Beginner · Professional Certificate · 3 - 6 Mo...  \n",
            "5     4.6(73K reviews)  Beginner · Professional Certificate · 3 - 6 Mo...  \n",
            "9     4.6(44K reviews)  Beginner · Professional Certificate · 3 - 6 Mo...  \n",
            "10    4.6(47K reviews)  Beginner · Professional Certificate · 3 - 6 Mo...  \n",
            "11    4.6(42K reviews)  Beginner · Professional Certificate · 3 - 6 Mo...  \n",
            "..                 ...                                                ...  \n",
            "939                NaN                Intermediate · Course · 1 - 4 Weeks  \n",
            "958   4.6(476 reviews)                    Beginner · Course · 1 - 4 Weeks  \n",
            "965   4.6(999 reviews)               Intermediate · Course · 1 - 3 Months  \n",
            "977                NaN               Intermediate · Course · 1 - 3 Months  \n",
            "979                NaN                                  Beginner · Course  \n",
            "\n",
            "[94 rows x 7 columns]\n",
            "Count of cousres taken from IBM= 94\n"
          ]
        }
      ]
    },
    {
      "cell_type": "code",
      "source": [
        "#Multiple educators\n",
        "MULTIPLE_EDUCATOR=Org.get_group(\"Multiple educators\")\n",
        "print(MULTIPLE_EDUCATOR)\n",
        "count_3=0\n",
        "for i in MULTIPLE_EDUCATOR['Organization']:\n",
        "  count_3=count_3+1\n",
        "print(\"Count of cousres taken from Multiple educators=\",count_3)\n"
      ],
      "metadata": {
        "colab": {
          "base_uri": "https://localhost:8080/"
        },
        "id": "0sAio1mZFSxG",
        "outputId": "9a0a9d27-3074-41f4-bd20-a9051d78a380"
      },
      "execution_count": 16,
      "outputs": [
        {
          "output_type": "stream",
          "name": "stdout",
          "text": [
            "     Unnamed: 0                                    Title        Organization  \\\n",
            "7             7                         Machine Learning  Multiple educators   \n",
            "31           31    IBM and ISC2 Cybersecurity Specialist  Multiple educators   \n",
            "283         283  Practical Data Science on the AWS Cloud  Multiple educators   \n",
            "345         345      Object Oriented Programming in Java  Multiple educators   \n",
            "\n",
            "                                                Skills  Ratings  \\\n",
            "7     Machine Learning, Machine Learning Algorithms...      4.9   \n",
            "31    Computer Security Incident Management, Leader...      4.7   \n",
            "283     Amazon Web Services, Exploratory Data Analysis      4.5   \n",
            "345   Computer Programming, Java Programming, Algor...      4.6   \n",
            "\n",
            "         Review counts                                           Metadata  \n",
            "7     4.9(19K reviews)           Beginner · Specialization · 1 - 3 Months  \n",
            "31   4.7(8.1K reviews)  Beginner · Professional Certificate · 3 - 6 Mo...  \n",
            "283   4.5(533 reviews)           Advanced · Specialization · 1 - 3 Months  \n",
            "345   4.6(15K reviews)           Beginner · Specialization · 3 - 6 Months  \n",
            "Count of cousres taken from Multiple educators= 4\n"
          ]
        }
      ]
    },
    {
      "cell_type": "code",
      "source": [
        "#University of Virginia Darden School Foundation\n",
        "University_of_Virginia_Darden_School_Foundation=Org.get_group(\"University of Virginia Darden School Foundation\")\n",
        "print(University_of_Virginia_Darden_School_Foundation)\n"
      ],
      "metadata": {
        "colab": {
          "base_uri": "https://localhost:8080/"
        },
        "id": "I22s-cnAFota",
        "outputId": "b33737b8-1462-49e1-cf02-805758a03ca8"
      },
      "execution_count": 10,
      "outputs": [
        {
          "output_type": "stream",
          "name": "stdout",
          "text": [
            "    Unnamed: 0                          Title  \\\n",
            "16          16  IBM & Darden Digital Strategy   \n",
            "\n",
            "                                       Organization  \\\n",
            "16  University of Virginia Darden School Foundation   \n",
            "\n",
            "                                               Skills  Ratings  \\\n",
            "16   Business Analysis, Business Transformation, S...      4.7   \n",
            "\n",
            "       Review counts                                  Metadata  \n",
            "16  4.7(30K reviews)  Beginner · Specialization · 3 - 6 Months  \n"
          ]
        }
      ]
    },
    {
      "cell_type": "code",
      "source": [
        "#DeepLearning.AI\n",
        "DeepLearning_AI=Org.get_group(\"DeepLearning.AI\")\n",
        "print(DeepLearning_AI)\n",
        "count_4=0\n",
        "for i in DeepLearning_AI['Organization']:\n",
        "  count_4=count_4+1\n",
        "print(\"Count of cousres taken from Deeplearning.AI=\",count_4)"
      ],
      "metadata": {
        "colab": {
          "base_uri": "https://localhost:8080/"
        },
        "id": "lePkeFQkGCf3",
        "outputId": "5f5f10b3-ffea-488f-83bd-f7a48190c543"
      },
      "execution_count": 18,
      "outputs": [
        {
          "output_type": "stream",
          "name": "stdout",
          "text": [
            "     Unnamed: 0                                              Title  \\\n",
            "17           17                                      Deep Learning   \n",
            "27           27           Generative AI with Large Language Models   \n",
            "38           38                         Generative AI for Everyone   \n",
            "46           46  Supervised Machine Learning: Regression and Cl...   \n",
            "49           49  Mathematics for Machine Learning and Data Science   \n",
            "53           53                                    AI For Everyone   \n",
            "66           66                        Natural Language Processing   \n",
            "67           67               DeepLearning.AI TensorFlow Developer   \n",
            "71           71  Machine Learning Engineering for Production (M...   \n",
            "87           87                       Advanced Learning Algorithms   \n",
            "97           97                  Neural Networks and Deep Learning   \n",
            "143         143  Linear Algebra for Machine Learning and Data S...   \n",
            "161         161  Unsupervised Learning, Recommenders, Reinforce...   \n",
            "167         167             Generative Adversarial Networks (GANs)   \n",
            "180         180                    TensorFlow: Advanced Techniques   \n",
            "185         185                                    AI for Medicine   \n",
            "196         196  Improving Deep Neural Networks: Hyperparameter...   \n",
            "199         199                                        AI for Good   \n",
            "254         254                      Convolutional Neural Networks   \n",
            "261         261                                    Sequence Models   \n",
            "265         265              Structuring Machine Learning Projects   \n",
            "275         275  Natural Language Processing with Classificatio...   \n",
            "290         290     Introduction to Machine Learning in Production   \n",
            "307         307  Introduction to TensorFlow for Artificial Inte...   \n",
            "329         329     Calculus for Machine Learning and Data Science   \n",
            "380         380  Probability & Statistics for Machine Learning ...   \n",
            "427         427        Convolutional Neural Networks in TensorFlow   \n",
            "440         440      Machine Learning Data Lifecycle in Production   \n",
            "516         516  Natural Language Processing with Probabilistic...   \n",
            "519         519                           AI for Medical Diagnosis   \n",
            "521         521          Natural Language Processing in TensorFlow   \n",
            "547         547              Sequences, Time Series and Prediction   \n",
            "600         600  Build Basic Generative Adversarial Networks (G...   \n",
            "615         615   Natural Language Processing with Sequence Models   \n",
            "632         632  Natural Language Processing with Attention Models   \n",
            "681         681                               AI and Public Health   \n",
            "698         698               AI For Everyone （すべての人のためのAIリテラシー講座）   \n",
            "769         769                    TensorFlow: Data and Deployment   \n",
            "786         786  Machine Learning Modeling Pipelines in Production   \n",
            "856         856                                      IA para todos   \n",
            "870         870    Deploying Machine Learning Models in Production   \n",
            "978         978  Custom Models, Layers, and Loss Functions with...   \n",
            "\n",
            "        Organization                                             Skills  \\\n",
            "17   DeepLearning.AI   Machine Learning, Deep Learning, Artificial N...   \n",
            "27   DeepLearning.AI   Machine Learning, Natural Language Processing...   \n",
            "38   DeepLearning.AI                                  Strategy, Writing   \n",
            "46   DeepLearning.AI   Machine Learning, Machine Learning Algorithms...   \n",
            "49   DeepLearning.AI   Mathematics, Algebra, Linear Algebra, Machine...   \n",
            "53   DeepLearning.AI   Data Science, Deep Learning, Machine Learning...   \n",
            "66   DeepLearning.AI   Natural Language Processing, Machine Learning...   \n",
            "67   DeepLearning.AI   Machine Learning, Tensorflow, Deep Learning, ...   \n",
            "71   DeepLearning.AI   Machine Learning, Applied Machine Learning, T...   \n",
            "87   DeepLearning.AI   Applied Machine Learning, Machine Learning, M...   \n",
            "97   DeepLearning.AI   Artificial Neural Networks, Deep Learning, Ma...   \n",
            "143  DeepLearning.AI   Algebra, Linear Algebra, Mathematics, Python ...   \n",
            "161  DeepLearning.AI   Algorithms, Machine Learning, Machine Learnin...   \n",
            "167  DeepLearning.AI   Machine Learning, Artificial Neural Networks,...   \n",
            "180  DeepLearning.AI                                                NaN   \n",
            "185  DeepLearning.AI                                                NaN   \n",
            "196  DeepLearning.AI   Applied Machine Learning, Deep Learning, Mach...   \n",
            "199  DeepLearning.AI   Artificial Neural Networks, Computer Vision, ...   \n",
            "254  DeepLearning.AI                                                NaN   \n",
            "261  DeepLearning.AI                                                NaN   \n",
            "265  DeepLearning.AI                                                NaN   \n",
            "275  DeepLearning.AI                                                NaN   \n",
            "290  DeepLearning.AI                                                NaN   \n",
            "307  DeepLearning.AI                                                NaN   \n",
            "329  DeepLearning.AI   Machine Learning, Calculus, Differential Equa...   \n",
            "380  DeepLearning.AI                                                NaN   \n",
            "427  DeepLearning.AI   Machine Learning, Deep Learning, Machine Lear...   \n",
            "440  DeepLearning.AI                                                NaN   \n",
            "516  DeepLearning.AI                                                NaN   \n",
            "519  DeepLearning.AI                                                NaN   \n",
            "521  DeepLearning.AI                                                NaN   \n",
            "547  DeepLearning.AI                                                NaN   \n",
            "600  DeepLearning.AI                                                NaN   \n",
            "615  DeepLearning.AI                                                NaN   \n",
            "632  DeepLearning.AI   Artificial Neural Networks, Deep Learning, Na...   \n",
            "681  DeepLearning.AI                                                NaN   \n",
            "698  DeepLearning.AI                                                NaN   \n",
            "769  DeepLearning.AI   Machine Learning, Applied Machine Learning, D...   \n",
            "786  DeepLearning.AI                                                NaN   \n",
            "856  DeepLearning.AI   Artificial Neural Networks, Deep Learning, Hu...   \n",
            "870  DeepLearning.AI                                                NaN   \n",
            "978  DeepLearning.AI                                                NaN   \n",
            "\n",
            "     Ratings      Review counts  \\\n",
            "17       4.8  4.8(142K reviews)   \n",
            "27       4.8  4.8(1.6K reviews)   \n",
            "38       4.9   4.9(528 reviews)   \n",
            "46       4.9   4.9(16K reviews)   \n",
            "49       4.6  4.6(1.4K reviews)   \n",
            "53       4.8   4.8(40K reviews)   \n",
            "66       4.6  4.6(5.5K reviews)   \n",
            "67       4.7   4.7(24K reviews)   \n",
            "71       4.7  4.7(3.4K reviews)   \n",
            "87       4.9  4.9(4.3K reviews)   \n",
            "97       4.9  4.9(120K reviews)   \n",
            "143      4.5    4.5(1K reviews)   \n",
            "161      4.9  4.9(2.1K reviews)   \n",
            "167      4.7  4.7(2.2K reviews)   \n",
            "180      4.8  4.8(1.4K reviews)   \n",
            "185      4.7  4.7(2.3K reviews)   \n",
            "196      4.9   4.9(63K reviews)   \n",
            "199      4.8   4.8(177 reviews)   \n",
            "254      4.9   4.9(42K reviews)   \n",
            "261      4.8   4.8(30K reviews)   \n",
            "265      4.8   4.8(50K reviews)   \n",
            "275      4.6  4.6(4.2K reviews)   \n",
            "290      4.8  4.8(2.7K reviews)   \n",
            "307      4.8   4.8(19K reviews)   \n",
            "329      4.8   4.8(445 reviews)   \n",
            "380      4.6   4.6(201 reviews)   \n",
            "427      4.7    4.7(8K reviews)   \n",
            "440      4.3   4.3(771 reviews)   \n",
            "516      4.7  4.7(1.6K reviews)   \n",
            "519      4.7  4.7(1.9K reviews)   \n",
            "521      4.6  4.6(6.3K reviews)   \n",
            "547      4.7  4.7(4.9K reviews)   \n",
            "600      4.7  4.7(1.8K reviews)   \n",
            "615      4.5  4.5(1.1K reviews)   \n",
            "632      4.4   4.4(949 reviews)   \n",
            "681      NaN                NaN   \n",
            "698      4.7   4.7(247 reviews)   \n",
            "769      4.6  4.6(1.4K reviews)   \n",
            "786      4.4   4.4(387 reviews)   \n",
            "856      4.9  4.9(1.1K reviews)   \n",
            "870      4.5   4.5(299 reviews)   \n",
            "978      NaN                NaN   \n",
            "\n",
            "                                              Metadata  \n",
            "17        Intermediate · Specialization · 3 - 6 Months  \n",
            "27                 Intermediate · Course · 1 - 4 Weeks  \n",
            "38                     Beginner · Course · 1 - 4 Weeks  \n",
            "46                     Beginner · Course · 1 - 4 Weeks  \n",
            "49            Beginner · Specialization · 1 - 3 Months  \n",
            "53                     Beginner · Course · 1 - 4 Weeks  \n",
            "66        Intermediate · Specialization · 3 - 6 Months  \n",
            "67   Intermediate · Professional Certificate · 3 - ...  \n",
            "71            Advanced · Specialization · 3 - 6 Months  \n",
            "87                     Beginner · Course · 1 - 4 Weeks  \n",
            "97                 Intermediate · Course · 1 - 4 Weeks  \n",
            "143                    Beginner · Course · 1 - 4 Weeks  \n",
            "161                    Beginner · Course · 1 - 4 Weeks  \n",
            "167       Intermediate · Specialization · 1 - 3 Months  \n",
            "180       Intermediate · Specialization · 3 - 6 Months  \n",
            "185       Intermediate · Specialization · 1 - 3 Months  \n",
            "196                Intermediate · Course · 1 - 4 Weeks  \n",
            "199           Beginner · Specialization · 1 - 3 Months  \n",
            "254                Intermediate · Course · 1 - 4 Weeks  \n",
            "261                Intermediate · Course · 1 - 4 Weeks  \n",
            "265                    Beginner · Course · 1 - 4 Weeks  \n",
            "275                Intermediate · Course · 1 - 4 Weeks  \n",
            "290                    Advanced · Course · 1 - 4 Weeks  \n",
            "307                Intermediate · Course · 1 - 4 Weeks  \n",
            "329                    Beginner · Course · 1 - 4 Weeks  \n",
            "380                    Beginner · Course · 1 - 4 Weeks  \n",
            "427                Intermediate · Course · 1 - 4 Weeks  \n",
            "440                    Advanced · Course · 1 - 4 Weeks  \n",
            "516                Intermediate · Course · 1 - 4 Weeks  \n",
            "519                Intermediate · Course · 1 - 4 Weeks  \n",
            "521                Intermediate · Course · 1 - 4 Weeks  \n",
            "547                Intermediate · Course · 1 - 4 Weeks  \n",
            "600                Intermediate · Course · 1 - 4 Weeks  \n",
            "615                Intermediate · Course · 1 - 4 Weeks  \n",
            "632                Intermediate · Course · 1 - 4 Weeks  \n",
            "681                    Beginner · Course · 1 - 4 Weeks  \n",
            "698                   Beginner · Course · 1 - 3 Months  \n",
            "769       Intermediate · Specialization · 3 - 6 Months  \n",
            "786                   Advanced · Course · 1 - 3 Months  \n",
            "856                    Beginner · Course · 1 - 4 Weeks  \n",
            "870                    Advanced · Course · 1 - 4 Weeks  \n",
            "978               Intermediate · Course · 1 - 3 Months  \n",
            "Count of cousres taken from Deeplearning.AI= 42\n"
          ]
        }
      ]
    },
    {
      "cell_type": "code",
      "source": [
        "#Vanderbilt University\n",
        "Vanderbilt_University=Org.get_group(\"Vanderbilt University\")\n",
        "print(Vanderbilt_University)\n",
        "count_5=0\n",
        "for i in Vanderbilt_University['Organization']:\n",
        "  count_5=count_5+1\n",
        "print(\"Count of cousres taken from Vanderbilt University=\",count_5)\n"
      ],
      "metadata": {
        "colab": {
          "base_uri": "https://localhost:8080/"
        },
        "id": "yyIVSRBxGWnK",
        "outputId": "acd5a8f2-2eee-463c-b837-4be5bfa61504"
      },
      "execution_count": 19,
      "outputs": [
        {
          "output_type": "stream",
          "name": "stdout",
          "text": [
            "     Unnamed: 0                                            Title  \\\n",
            "25           25                               Prompt Engineering   \n",
            "76           76                   Prompt Engineering for ChatGPT   \n",
            "146         146                   ChatGPT Advanced Data Analysis   \n",
            "182         182                        Generative AI for Leaders   \n",
            "244         244  MATLAB Programming for Engineers and Scientists   \n",
            "360         360                        Trustworthy Generative AI   \n",
            "362         362                 Innovative Teaching with ChatGPT   \n",
            "553         553            Data Management for Clinical Research   \n",
            "591         591          Introduction to Programming with MATLAB   \n",
            "750         750                             Generative AI Primer   \n",
            "\n",
            "              Organization                                             Skills  \\\n",
            "25   Vanderbilt University   Creativity, Data Analysis, Problem Solving, W...   \n",
            "76   Vanderbilt University               Creativity, Problem Solving, Writing   \n",
            "146  Vanderbilt University                                      Data Analysis   \n",
            "182  Vanderbilt University                                                NaN   \n",
            "244  Vanderbilt University   Computer Programming, Other Programming Langu...   \n",
            "360  Vanderbilt University                                                NaN   \n",
            "362  Vanderbilt University                                                NaN   \n",
            "553  Vanderbilt University                                                NaN   \n",
            "591  Vanderbilt University                                                NaN   \n",
            "750  Vanderbilt University                                                NaN   \n",
            "\n",
            "     Ratings      Review counts                                  Metadata  \n",
            "25       4.8  4.8(2.1K reviews)  Beginner · Specialization · 1 - 3 Months  \n",
            "76       4.8    4.8(2K reviews)          Beginner · Course · 1 - 3 Months  \n",
            "146      4.9   4.9(154 reviews)          Beginner · Course · 1 - 3 Months  \n",
            "182      4.6    4.6(15 reviews)           Beginner · Course · 1 - 4 Weeks  \n",
            "244      4.8   4.8(18K reviews)  Beginner · Specialization · 3 - 6 Months  \n",
            "360      4.9    4.9(35 reviews)           Beginner · Course · 1 - 4 Weeks  \n",
            "362      4.6    4.6(64 reviews)           Beginner · Course · 1 - 4 Weeks  \n",
            "553      4.7  4.7(1.5K reviews)          Beginner · Course · 1 - 3 Months  \n",
            "591      4.8   4.8(17K reviews)          Beginner · Course · 1 - 3 Months  \n",
            "750      4.7    4.7(36 reviews)           Beginner · Course · 1 - 4 Weeks  \n",
            "Count of cousres taken from Vanderbilt University= 10\n"
          ]
        }
      ]
    },
    {
      "cell_type": "code",
      "source": [
        "#Meta\n",
        "Meta=Org.get_group(\"Meta\")\n",
        "print(Meta)\n",
        "count_6=0\n",
        "for i in Meta['Organization']:\n",
        "  count_6=count_6+1\n",
        "print(\"Count of cousres taken from Meta=\",count_6)"
      ],
      "metadata": {
        "colab": {
          "base_uri": "https://localhost:8080/"
        },
        "id": "z7eDqgqeY35r",
        "outputId": "9784715a-c462-497a-f96b-7b17ed6128f3"
      },
      "execution_count": 20,
      "outputs": [
        {
          "output_type": "stream",
          "name": "stdout",
          "text": [
            "     Unnamed: 0                                   Title Organization  \\\n",
            "34           34                Meta Front-End Developer         Meta   \n",
            "62           62             Meta Social Media Marketing         Meta   \n",
            "63           63                       Meta React Native         Meta   \n",
            "72           72                 Meta Back-End Developer         Meta   \n",
            "74           74                      Meta iOS Developer         Meta   \n",
            "75           75                  Meta Android Developer         Meta   \n",
            "82           82                  Meta Database Engineer         Meta   \n",
            "173         173                Meta Marketing Analytics         Meta   \n",
            "288         288  Introduction to Social Media Marketing         Meta   \n",
            "324         324   Introduction to Front-End Development         Meta   \n",
            "433         433                       Meta AR Developer         Meta   \n",
            "441         441             Programming with JavaScript         Meta   \n",
            "606         606                 Social Media Management         Meta   \n",
            "607         607                         Version Control         Meta   \n",
            "751         751                            React Basics         Meta   \n",
            "843         843                          Advanced React         Meta   \n",
            "847         847              Principles of UX/UI Design         Meta   \n",
            "852         852    Introduction to Back-End Development         Meta   \n",
            "872         872                   HTML and CSS in depth         Meta   \n",
            "882         882     Marketing en redes sociales de Meta         Meta   \n",
            "900         900                   Programming in Python         Meta   \n",
            "\n",
            "                                                Skills  Ratings  \\\n",
            "34    HTML and CSS, Javascript, Front-End Web Devel...      4.7   \n",
            "62    Marketing, Digital Marketing, Social Media, A...      4.8   \n",
            "63    React (web framework), Javascript, Mobile Dev...      4.7   \n",
            "72    Python Programming, Databases, HTML and CSS, ...      4.7   \n",
            "74    Mobile Development, Swift Programming, iOS De...      4.7   \n",
            "75    Mobile Development, Computer Programming, Rea...      4.6   \n",
            "82    SQL, Databases, Statistical Programming, Pyth...      4.6   \n",
            "173   Marketing, Digital Marketing, Advertising, Da...      4.7   \n",
            "288                                                NaN      4.8   \n",
            "324   HTML and CSS, React (web framework), Web Deve...      4.8   \n",
            "433                                                NaN      4.5   \n",
            "441                                                NaN      4.7   \n",
            "606                                                NaN      4.9   \n",
            "607                                                NaN      4.6   \n",
            "751                                                NaN      4.7   \n",
            "843                                                NaN      4.7   \n",
            "847                                                NaN      4.7   \n",
            "852   HTML and CSS, React (web framework), Web Deve...      4.8   \n",
            "872                                                NaN      4.7   \n",
            "882   Communication, Marketing, Social Media, Adver...      4.9   \n",
            "900                                                NaN      4.7   \n",
            "\n",
            "         Review counts                                           Metadata  \n",
            "34    4.7(16K reviews)  Beginner · Professional Certificate · 3 - 6 Mo...  \n",
            "62    4.8(18K reviews)  Beginner · Professional Certificate · 3 - 6 Mo...  \n",
            "63   4.7(7.2K reviews)           Beginner · Specialization · 3 - 6 Months  \n",
            "72   4.7(6.5K reviews)  Beginner · Professional Certificate · 3 - 6 Mo...  \n",
            "74   4.7(5.3K reviews)  Beginner · Professional Certificate · 3 - 6 Mo...  \n",
            "75   4.6(5.6K reviews)  Beginner · Professional Certificate · 3 - 6 Mo...  \n",
            "82   4.6(4.8K reviews)  Beginner · Professional Certificate · 3 - 6 Mo...  \n",
            "173  4.7(2.2K reviews)  Beginner · Professional Certificate · 3 - 6 Mo...  \n",
            "288   4.8(13K reviews)                   Beginner · Course · 1 - 3 Months  \n",
            "324  4.8(9.5K reviews)                    Beginner · Course · 1 - 4 Weeks  \n",
            "433    4.5(98 reviews)  Intermediate · Professional Certificate · 3 - ...  \n",
            "441  4.7(3.4K reviews)                   Beginner · Course · 1 - 3 Months  \n",
            "606  4.9(4.6K reviews)                    Beginner · Course · 1 - 4 Weeks  \n",
            "607  4.6(2.7K reviews)                    Beginner · Course · 1 - 4 Weeks  \n",
            "751  4.7(1.5K reviews)                    Beginner · Course · 1 - 4 Weeks  \n",
            "843   4.7(847 reviews)                Intermediate · Course · 1 - 4 Weeks  \n",
            "847   4.7(572 reviews)                   Beginner · Course · 1 - 3 Months  \n",
            "852  4.8(2.7K reviews)                    Beginner · Course · 1 - 4 Weeks  \n",
            "872  4.7(1.3K reviews)                    Beginner · Course · 1 - 4 Weeks  \n",
            "882   4.9(910 reviews)  Beginner · Professional Certificate · 3 - 6 Mo...  \n",
            "900  4.7(1.2K reviews)                   Beginner · Course · 1 - 3 Months  \n",
            "Count of cousres taken from Meta= 21\n"
          ]
        }
      ]
    },
    {
      "cell_type": "code",
      "source": [],
      "metadata": {
        "id": "I6wEHlKEZsGe"
      },
      "execution_count": null,
      "outputs": []
    }
  ]
}