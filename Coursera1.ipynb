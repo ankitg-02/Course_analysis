{
  "nbformat": 4,
  "nbformat_minor": 0,
  "metadata": {
    "colab": {
      "provenance": [],
      "authorship_tag": "ABX9TyMzfDo8v7z3TM9OMmmoou6s",
      "include_colab_link": true
    },
    "kernelspec": {
      "name": "python3",
      "display_name": "Python 3"
    },
    "language_info": {
      "name": "python"
    }
  },
  "cells": [
    {
      "cell_type": "markdown",
      "metadata": {
        "id": "view-in-github",
        "colab_type": "text"
      },
      "source": [
        "<a href=\"https://colab.research.google.com/github/ankitg-02/Course_analysis/blob/main/Coursera1.ipynb\" target=\"_parent\"><img src=\"https://colab.research.google.com/assets/colab-badge.svg\" alt=\"Open In Colab\"/></a>"
      ]
    },
    {
      "cell_type": "code",
      "execution_count": 5,
      "metadata": {
        "id": "eObl7MUomfBB"
      },
      "outputs": [],
      "source": [
        "import pandas as pd\n",
        "import numpy as np\n",
        "import matplotlib.pyplot as plt\n"
      ]
    },
    {
      "cell_type": "code",
      "source": [
        "#feteching the dataset from the csv file\n",
        "course=pd.read_csv('/content/coursera_course_dataset.csv')\n",
        "coursera=pd.DataFrame(course)\n",
        "print(coursera)"
      ],
      "metadata": {
        "colab": {
          "base_uri": "https://localhost:8080/"
        },
        "id": "hHaQe0wQmmQe",
        "outputId": "07bc8e38-dfdb-48b3-952d-3c68cc9cf510"
      },
      "execution_count": 2,
      "outputs": [
        {
          "output_type": "stream",
          "name": "stdout",
          "text": [
            "     Unnamed: 0                                              Title  \\\n",
            "0             0                               Google Cybersecurity   \n",
            "1             1                              Google Data Analytics   \n",
            "2             2                         Google Project Management:   \n",
            "3             3                                   IBM Data Science   \n",
            "4             4              Google Digital Marketing & E-commerce   \n",
            "..          ...                                                ...   \n",
            "979         979  Getting Started with Front-End and Web Develop...   \n",
            "980         980                   Conflict Management For Everyone   \n",
            "981         981     Introduction to Microsoft Azure Cloud Services   \n",
            "982         982                              Healing with the Arts   \n",
            "983         983                               Applied Cryptography   \n",
            "\n",
            "                      Organization  \\\n",
            "0                           Google   \n",
            "1                           Google   \n",
            "2                           Google   \n",
            "3                              IBM   \n",
            "4                           Google   \n",
            "..                             ...   \n",
            "979                            IBM   \n",
            "980       Arizona State University   \n",
            "981                      Microsoft   \n",
            "982          University of Florida   \n",
            "983  University of Colorado System   \n",
            "\n",
            "                                                Skills  Ratings  \\\n",
            "0     Network Security, Python Programming, Linux, ...      4.8   \n",
            "1     Data Analysis, R Programming, SQL, Business C...      4.8   \n",
            "2     Project Management, Strategy and Operations, ...      4.8   \n",
            "3     Python Programming, Data Science, Machine Lea...      4.6   \n",
            "4     Digital Marketing, Marketing, Marketing Manag...      4.8   \n",
            "..                                                 ...      ...   \n",
            "979                                                NaN      NaN   \n",
            "980                                                NaN      NaN   \n",
            "981                                                NaN      NaN   \n",
            "982                                                NaN      NaN   \n",
            "983                                                NaN      NaN   \n",
            "\n",
            "         Review counts                                           Metadata  \n",
            "0     4.8(20K reviews)  Beginner · Professional Certificate · 3 - 6 Mo...  \n",
            "1    4.8(137K reviews)  Beginner · Professional Certificate · 3 - 6 Mo...  \n",
            "2    4.8(100K reviews)  Beginner · Professional Certificate · 3 - 6 Mo...  \n",
            "3    4.6(120K reviews)  Beginner · Professional Certificate · 3 - 6 Mo...  \n",
            "4     4.8(23K reviews)  Beginner · Professional Certificate · 3 - 6 Mo...  \n",
            "..                 ...                                                ...  \n",
            "979                NaN                                  Beginner · Course  \n",
            "980                NaN           Beginner · Specialization · 3 - 6 Months  \n",
            "981                NaN                    Beginner · Course · 1 - 4 Weeks  \n",
            "982                NaN                      Mixed · Course · 1 - 3 Months  \n",
            "983                NaN       Intermediate · Specialization · 3 - 6 Months  \n",
            "\n",
            "[984 rows x 7 columns]\n"
          ]
        }
      ]
    },
    {
      "cell_type": "code",
      "source": [
        "#checking whether the tuples are blank or not\n",
        "coursera.isnull().sum()"
      ],
      "metadata": {
        "colab": {
          "base_uri": "https://localhost:8080/"
        },
        "id": "qfHaM8gCneKM",
        "outputId": "868c3acb-d67d-4ab8-fabf-aafca378d348"
      },
      "execution_count": 4,
      "outputs": [
        {
          "output_type": "execute_result",
          "data": {
            "text/plain": [
              "Unnamed: 0         0\n",
              "Title              0\n",
              "Organization       0\n",
              "Skills           624\n",
              "Ratings           84\n",
              "Review counts     84\n",
              "Metadata           0\n",
              "dtype: int64"
            ]
          },
          "metadata": {},
          "execution_count": 4
        }
      ]
    },
    {
      "cell_type": "code",
      "source": [
        "#enhancing different skills\n",
        "\n"
      ],
      "metadata": {
        "id": "3YJz2Ug6nzmX"
      },
      "execution_count": 12,
      "outputs": []
    },
    {
      "cell_type": "code",
      "source": [],
      "metadata": {
        "id": "PPiUl-vEqPSa"
      },
      "execution_count": null,
      "outputs": []
    }
  ]
}