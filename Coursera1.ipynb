{
  "nbformat": 4,
  "nbformat_minor": 0,
  "metadata": {
    "colab": {
      "provenance": [],
      "authorship_tag": "ABX9TyPqlJ8AHKf0iZcwjKeEdVT1",
      "include_colab_link": true
    },
    "kernelspec": {
      "name": "python3",
      "display_name": "Python 3"
    },
    "language_info": {
      "name": "python"
    }
  },
  "cells": [
    {
      "cell_type": "markdown",
      "metadata": {
        "id": "view-in-github",
        "colab_type": "text"
      },
      "source": [
        "<a href=\"https://colab.research.google.com/github/ankitg-02/Course_analysis/blob/main/Coursera1.ipynb\" target=\"_parent\"><img src=\"https://colab.research.google.com/assets/colab-badge.svg\" alt=\"Open In Colab\"/></a>"
      ]
    },
    {
      "cell_type": "code",
      "execution_count": 14,
      "metadata": {
        "id": "eObl7MUomfBB"
      },
      "outputs": [],
      "source": [
        "import pandas as pd\n",
        "import numpy as np\n",
        "import matplotlib.pyplot as plt\n",
        "from collections import Counter"
      ]
    },
    {
      "cell_type": "code",
      "source": [
        "#feteching the dataset from the csv file\n",
        "course=pd.read_csv('/content/coursera_course_dataset.csv')\n",
        "coursera=pd.DataFrame(course)\n",
        "print(coursera)"
      ],
      "metadata": {
        "colab": {
          "base_uri": "https://localhost:8080/"
        },
        "id": "hHaQe0wQmmQe",
        "outputId": "1e26a3bb-f360-42d2-d9c5-4a65fa9997d1"
      },
      "execution_count": 3,
      "outputs": [
        {
          "output_type": "stream",
          "name": "stdout",
          "text": [
            "     Unnamed: 0                                              Title  \\\n",
            "0             0                               Google Cybersecurity   \n",
            "1             1                              Google Data Analytics   \n",
            "2             2                         Google Project Management:   \n",
            "3             3                                   IBM Data Science   \n",
            "4             4              Google Digital Marketing & E-commerce   \n",
            "..          ...                                                ...   \n",
            "979         979  Getting Started with Front-End and Web Develop...   \n",
            "980         980                   Conflict Management For Everyone   \n",
            "981         981     Introduction to Microsoft Azure Cloud Services   \n",
            "982         982                              Healing with the Arts   \n",
            "983         983                               Applied Cryptography   \n",
            "\n",
            "                      Organization  \\\n",
            "0                           Google   \n",
            "1                           Google   \n",
            "2                           Google   \n",
            "3                              IBM   \n",
            "4                           Google   \n",
            "..                             ...   \n",
            "979                            IBM   \n",
            "980       Arizona State University   \n",
            "981                      Microsoft   \n",
            "982          University of Florida   \n",
            "983  University of Colorado System   \n",
            "\n",
            "                                                Skills  Ratings  \\\n",
            "0     Network Security, Python Programming, Linux, ...      4.8   \n",
            "1     Data Analysis, R Programming, SQL, Business C...      4.8   \n",
            "2     Project Management, Strategy and Operations, ...      4.8   \n",
            "3     Python Programming, Data Science, Machine Lea...      4.6   \n",
            "4     Digital Marketing, Marketing, Marketing Manag...      4.8   \n",
            "..                                                 ...      ...   \n",
            "979                                                NaN      NaN   \n",
            "980                                                NaN      NaN   \n",
            "981                                                NaN      NaN   \n",
            "982                                                NaN      NaN   \n",
            "983                                                NaN      NaN   \n",
            "\n",
            "         Review counts                                           Metadata  \n",
            "0     4.8(20K reviews)  Beginner · Professional Certificate · 3 - 6 Mo...  \n",
            "1    4.8(137K reviews)  Beginner · Professional Certificate · 3 - 6 Mo...  \n",
            "2    4.8(100K reviews)  Beginner · Professional Certificate · 3 - 6 Mo...  \n",
            "3    4.6(120K reviews)  Beginner · Professional Certificate · 3 - 6 Mo...  \n",
            "4     4.8(23K reviews)  Beginner · Professional Certificate · 3 - 6 Mo...  \n",
            "..                 ...                                                ...  \n",
            "979                NaN                                  Beginner · Course  \n",
            "980                NaN           Beginner · Specialization · 3 - 6 Months  \n",
            "981                NaN                    Beginner · Course · 1 - 4 Weeks  \n",
            "982                NaN                      Mixed · Course · 1 - 3 Months  \n",
            "983                NaN       Intermediate · Specialization · 3 - 6 Months  \n",
            "\n",
            "[984 rows x 7 columns]\n"
          ]
        }
      ]
    },
    {
      "cell_type": "code",
      "source": [
        "#checking whether the tuples are blank or not\n",
        "coursera.isnull().sum()"
      ],
      "metadata": {
        "colab": {
          "base_uri": "https://localhost:8080/"
        },
        "id": "qfHaM8gCneKM",
        "outputId": "fdc288db-2a51-4f27-a085-32e4579875fd"
      },
      "execution_count": 4,
      "outputs": [
        {
          "output_type": "execute_result",
          "data": {
            "text/plain": [
              "Unnamed: 0         0\n",
              "Title              0\n",
              "Organization       0\n",
              "Skills           624\n",
              "Ratings           84\n",
              "Review counts     84\n",
              "Metadata           0\n",
              "dtype: int64"
            ]
          },
          "metadata": {},
          "execution_count": 4
        }
      ]
    },
    {
      "cell_type": "code",
      "source": [
        "#enhancing different skills\n",
        "skills=coursera['Skills'].unique\n",
        "print(skills)\n"
      ],
      "metadata": {
        "id": "3YJz2Ug6nzmX",
        "colab": {
          "base_uri": "https://localhost:8080/"
        },
        "outputId": "43a532bd-fe8a-4fda-fd8a-d6edfaf53674"
      },
      "execution_count": 15,
      "outputs": [
        {
          "output_type": "stream",
          "name": "stdout",
          "text": [
            "<bound method Series.unique of 0       Network Security, Python Programming, Linux, ...\n",
            "1       Data Analysis, R Programming, SQL, Business C...\n",
            "2       Project Management, Strategy and Operations, ...\n",
            "3       Python Programming, Data Science, Machine Lea...\n",
            "4       Digital Marketing, Marketing, Marketing Manag...\n",
            "                             ...                        \n",
            "979                                                  NaN\n",
            "980                                                  NaN\n",
            "981                                                  NaN\n",
            "982                                                  NaN\n",
            "983                                                  NaN\n",
            "Name: Skills, Length: 984, dtype: object>\n"
          ]
        }
      ]
    },
    {
      "cell_type": "code",
      "source": [
        "#details about each skills\n",
        "uni_skills=[]\n",
        "for i in coursera['Skills']:\n",
        "  if i not in coursera['Skills']:\n",
        "    uni_skills.append(i)\n",
        "print(uni_skills)\n"
      ],
      "metadata": {
        "id": "PPiUl-vEqPSa",
        "colab": {
          "base_uri": "https://localhost:8080/",
          "height": 106
        },
        "outputId": "8b06a478-35fb-4d23-a3eb-aeaf424f4c7a"
      },
      "execution_count": 25,
      "outputs": [
        {
          "output_type": "error",
          "ename": "SyntaxError",
          "evalue": "invalid syntax. Perhaps you forgot a comma? (<ipython-input-25-3ecf7d6c2728>, line 7)",
          "traceback": [
            "\u001b[0;36m  File \u001b[0;32m\"<ipython-input-25-3ecf7d6c2728>\"\u001b[0;36m, line \u001b[0;32m7\u001b[0m\n\u001b[0;31m    uni_skills.count(Network Security)\u001b[0m\n\u001b[0m                     ^\u001b[0m\n\u001b[0;31mSyntaxError\u001b[0m\u001b[0;31m:\u001b[0m invalid syntax. Perhaps you forgot a comma?\n"
          ]
        }
      ]
    },
    {
      "cell_type": "code",
      "source": [
        "\n",
        "\n"
      ],
      "metadata": {
        "colab": {
          "base_uri": "https://localhost:8080/",
          "height": 103
        },
        "id": "Oauoo5Fn6a9-",
        "outputId": "4abc9bb7-991d-42d1-f5c2-e3437355afa8"
      },
      "execution_count": 22,
      "outputs": [
        {
          "output_type": "execute_result",
          "data": {
            "text/plain": [
              "<function __main__.most_frequent(uni_skills)>"
            ],
            "text/html": [
              "<div style=\"max-width:800px; border: 1px solid var(--colab-border-color);\"><style>\n",
              "      pre.function-repr-contents {\n",
              "        overflow-x: auto;\n",
              "        padding: 8px 12px;\n",
              "        max-height: 500px;\n",
              "      }\n",
              "\n",
              "      pre.function-repr-contents.function-repr-contents-collapsed {\n",
              "        cursor: pointer;\n",
              "        max-height: 100px;\n",
              "      }\n",
              "    </style>\n",
              "    <pre style=\"white-space: initial; background:\n",
              "         var(--colab-secondary-surface-color); padding: 8px 12px;\n",
              "         border-bottom: 1px solid var(--colab-border-color);\"><b>most_frequent</b><br/>def most_frequent(uni_skills)</pre><pre class=\"function-repr-contents function-repr-contents-collapsed\" style=\"\"><a class=\"filepath\" style=\"display:none\" href=\"#\">/content/&lt;ipython-input-22-113fd9efd00a&gt;</a>&lt;no docstring&gt;</pre></div>"
            ]
          },
          "metadata": {},
          "execution_count": 22
        }
      ]
    },
    {
      "cell_type": "code",
      "source": [],
      "metadata": {
        "id": "tiPCw33FCbtR"
      },
      "execution_count": null,
      "outputs": []
    }
  ]
}